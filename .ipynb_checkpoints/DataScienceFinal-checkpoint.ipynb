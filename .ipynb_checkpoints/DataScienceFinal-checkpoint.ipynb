{
 "cells": [
  {
   "cell_type": "markdown",
   "metadata": {},
   "source": [
    "## Import Data into Python Using Pandas"
   ]
  },
  {
   "cell_type": "code",
   "execution_count": 1,
   "metadata": {
    "collapsed": true,
    "scrolled": false
   },
   "outputs": [],
   "source": [
    "import pandas as pd\n",
    "import matplotlib.pyplot as plt\n",
    "import seaborn as sns\n",
    "import numpy as np\n",
    "\n",
    "%matplotlib inline\n",
    "\n",
    "calldata = pd.read_csv('party_in_nyc.csv')\n",
    "#calldata.head()"
   ]
  },
  {
   "cell_type": "markdown",
   "metadata": {},
   "source": [
    "## Create Columns for Month, Day, and Time \n",
    "### Time is a tuple of (Hour, Minute, Second)"
   ]
  },
  {
   "cell_type": "code",
   "execution_count": 2,
   "metadata": {
    "collapsed": true
   },
   "outputs": [],
   "source": [
    "# Create time column\n",
    "\n",
    "def getTime(created):\n",
    "    time = (created.split()[-1])\n",
    "    time = time.split(sep=':')\n",
    "    time = tuple(time)\n",
    "    return time\n",
    "\n",
    "def getMonth(created):\n",
    "    month = (created.split()[0])\n",
    "    month = month.split(sep = '-')\n",
    "    month = int(month[1])\n",
    "    return month\n",
    "\n",
    "def getDay(created):\n",
    "    day = (created.split()[0])\n",
    "    day = day.split(sep = '-')\n",
    "    day = int(day[-1])\n",
    "    return day\n",
    "\n",
    "created_series = calldata.iloc[:,0]\n",
    "month_series = created_series.apply(getMonth)\n",
    "day_series = created_series.apply(getDay)\n",
    "time_series = created_series.apply(getTime)\n",
    "\n",
    "calldata = calldata.assign(Month=month_series.values)\n",
    "calldata = calldata.assign(Day=day_series.values)\n",
    "calldata = calldata.assign(Time=time_series.values)\n",
    "\n",
    "#calldata.head()\n"
   ]
  },
  {
   "cell_type": "code",
   "execution_count": 3,
   "metadata": {
    "collapsed": true
   },
   "outputs": [],
   "source": [
    "from datetime import date"
   ]
  },
  {
   "cell_type": "code",
   "execution_count": 4,
   "metadata": {
    "collapsed": true
   },
   "outputs": [],
   "source": [
    "# add weekday column\n",
    "def getYear(created):\n",
    "    year = (created.split()[0])\n",
    "    year = year.split(sep = '-')\n",
    "    year = int(year[0])\n",
    "    return year\n",
    "\n",
    "def getWeekday(created):\n",
    "    day = getDay(created)\n",
    "    month = getMonth(created)\n",
    "    year = getYear(created)\n",
    "    newDate = date(int(year), int(month), int(day))\n",
    "    newDate = newDate.weekday()\n",
    "    if newDate == 0:\n",
    "        newDate = 'Monday'\n",
    "    elif newDate == 1:\n",
    "        newDate = 'Tuesday'\n",
    "    elif newDate == 2:\n",
    "        newDate = 'Wednesday'\n",
    "    elif newDate == 3:\n",
    "        newDate = 'Thursday'\n",
    "    elif newDate == 4:\n",
    "        newDate = 'Friday'\n",
    "    elif newDate == 5:\n",
    "        newDate = 'Saturday'\n",
    "    elif newDate == 6:\n",
    "        newDate = 'Sunday'\n",
    "    else:\n",
    "        newDate = 'Wrong'\n",
    "    return newDate\n",
    "\n",
    "# returns weekday as int, starting with 0 as monday\n",
    "def getWeekdayInt(created):\n",
    "    day = getDay(created)\n",
    "    month = getMonth(created)\n",
    "    year = getYear(created)\n",
    "    newDate = date(int(year), int(month), int(day))\n",
    "    newDate = newDate.weekday()\n",
    "    return newDate\n"
   ]
  },
  {
   "cell_type": "code",
   "execution_count": 5,
   "metadata": {},
   "outputs": [
    {
     "data": {
      "text/html": [
       "<div>\n",
       "<style>\n",
       "    .dataframe thead tr:only-child th {\n",
       "        text-align: right;\n",
       "    }\n",
       "\n",
       "    .dataframe thead th {\n",
       "        text-align: left;\n",
       "    }\n",
       "\n",
       "    .dataframe tbody tr th {\n",
       "        vertical-align: top;\n",
       "    }\n",
       "</style>\n",
       "<table border=\"1\" class=\"dataframe\">\n",
       "  <thead>\n",
       "    <tr style=\"text-align: right;\">\n",
       "      <th></th>\n",
       "      <th>Created Date</th>\n",
       "      <th>Closed Date</th>\n",
       "      <th>Location Type</th>\n",
       "      <th>Incident Zip</th>\n",
       "      <th>City</th>\n",
       "      <th>Borough</th>\n",
       "      <th>Latitude</th>\n",
       "      <th>Longitude</th>\n",
       "      <th>Month</th>\n",
       "      <th>Day</th>\n",
       "      <th>Time</th>\n",
       "      <th>Weekday</th>\n",
       "      <th>WeekdayInt</th>\n",
       "    </tr>\n",
       "  </thead>\n",
       "  <tbody>\n",
       "    <tr>\n",
       "      <th>0</th>\n",
       "      <td>2015-12-31 00:01:15</td>\n",
       "      <td>2015-12-31 03:48:04</td>\n",
       "      <td>Store/Commercial</td>\n",
       "      <td>10034.0</td>\n",
       "      <td>NEW YORK</td>\n",
       "      <td>MANHATTAN</td>\n",
       "      <td>40.866183</td>\n",
       "      <td>-73.918930</td>\n",
       "      <td>12</td>\n",
       "      <td>31</td>\n",
       "      <td>(00, 01, 15)</td>\n",
       "      <td>Thursday</td>\n",
       "      <td>3</td>\n",
       "    </tr>\n",
       "    <tr>\n",
       "      <th>1</th>\n",
       "      <td>2015-12-31 00:02:48</td>\n",
       "      <td>2015-12-31 04:36:13</td>\n",
       "      <td>Store/Commercial</td>\n",
       "      <td>10040.0</td>\n",
       "      <td>NEW YORK</td>\n",
       "      <td>MANHATTAN</td>\n",
       "      <td>40.859324</td>\n",
       "      <td>-73.931237</td>\n",
       "      <td>12</td>\n",
       "      <td>31</td>\n",
       "      <td>(00, 02, 48)</td>\n",
       "      <td>Thursday</td>\n",
       "      <td>3</td>\n",
       "    </tr>\n",
       "    <tr>\n",
       "      <th>2</th>\n",
       "      <td>2015-12-31 00:03:25</td>\n",
       "      <td>2015-12-31 00:40:15</td>\n",
       "      <td>Residential Building/House</td>\n",
       "      <td>10026.0</td>\n",
       "      <td>NEW YORK</td>\n",
       "      <td>MANHATTAN</td>\n",
       "      <td>40.799415</td>\n",
       "      <td>-73.953371</td>\n",
       "      <td>12</td>\n",
       "      <td>31</td>\n",
       "      <td>(00, 03, 25)</td>\n",
       "      <td>Thursday</td>\n",
       "      <td>3</td>\n",
       "    </tr>\n",
       "    <tr>\n",
       "      <th>3</th>\n",
       "      <td>2015-12-31 00:03:26</td>\n",
       "      <td>2015-12-31 01:53:38</td>\n",
       "      <td>Residential Building/House</td>\n",
       "      <td>11231.0</td>\n",
       "      <td>BROOKLYN</td>\n",
       "      <td>BROOKLYN</td>\n",
       "      <td>40.678285</td>\n",
       "      <td>-73.994668</td>\n",
       "      <td>12</td>\n",
       "      <td>31</td>\n",
       "      <td>(00, 03, 26)</td>\n",
       "      <td>Thursday</td>\n",
       "      <td>3</td>\n",
       "    </tr>\n",
       "    <tr>\n",
       "      <th>4</th>\n",
       "      <td>2015-12-31 00:05:10</td>\n",
       "      <td>2015-12-31 03:49:10</td>\n",
       "      <td>Residential Building/House</td>\n",
       "      <td>10033.0</td>\n",
       "      <td>NEW YORK</td>\n",
       "      <td>MANHATTAN</td>\n",
       "      <td>40.850304</td>\n",
       "      <td>-73.938516</td>\n",
       "      <td>12</td>\n",
       "      <td>31</td>\n",
       "      <td>(00, 05, 10)</td>\n",
       "      <td>Thursday</td>\n",
       "      <td>3</td>\n",
       "    </tr>\n",
       "  </tbody>\n",
       "</table>\n",
       "</div>"
      ],
      "text/plain": [
       "          Created Date          Closed Date               Location Type  \\\n",
       "0  2015-12-31 00:01:15  2015-12-31 03:48:04            Store/Commercial   \n",
       "1  2015-12-31 00:02:48  2015-12-31 04:36:13            Store/Commercial   \n",
       "2  2015-12-31 00:03:25  2015-12-31 00:40:15  Residential Building/House   \n",
       "3  2015-12-31 00:03:26  2015-12-31 01:53:38  Residential Building/House   \n",
       "4  2015-12-31 00:05:10  2015-12-31 03:49:10  Residential Building/House   \n",
       "\n",
       "   Incident Zip      City    Borough   Latitude  Longitude  Month  Day  \\\n",
       "0       10034.0  NEW YORK  MANHATTAN  40.866183 -73.918930     12   31   \n",
       "1       10040.0  NEW YORK  MANHATTAN  40.859324 -73.931237     12   31   \n",
       "2       10026.0  NEW YORK  MANHATTAN  40.799415 -73.953371     12   31   \n",
       "3       11231.0  BROOKLYN   BROOKLYN  40.678285 -73.994668     12   31   \n",
       "4       10033.0  NEW YORK  MANHATTAN  40.850304 -73.938516     12   31   \n",
       "\n",
       "           Time   Weekday  WeekdayInt  \n",
       "0  (00, 01, 15)  Thursday           3  \n",
       "1  (00, 02, 48)  Thursday           3  \n",
       "2  (00, 03, 25)  Thursday           3  \n",
       "3  (00, 03, 26)  Thursday           3  \n",
       "4  (00, 05, 10)  Thursday           3  "
      ]
     },
     "execution_count": 5,
     "metadata": {},
     "output_type": "execute_result"
    }
   ],
   "source": [
    "created_series = calldata.iloc[:,0]\n",
    "weekday_series = created_series.apply(getWeekday)\n",
    "weekday_int_series = created_series.apply(getWeekdayInt)\n",
    "\n",
    "calldata = calldata.assign(Weekday = weekday_series.values)\n",
    "calldata = calldata.assign(WeekdayInt = weekday_int_series.values)\n",
    "calldata.head()"
   ]
  },
  {
   "cell_type": "code",
   "execution_count": 6,
   "metadata": {},
   "outputs": [
    {
     "name": "stdout",
     "output_type": "stream",
     "text": [
      "<class 'pandas.core.frame.DataFrame'>\n",
      "RangeIndex: 225414 entries, 0 to 225413\n",
      "Data columns (total 13 columns):\n",
      "Created Date     225414 non-null object\n",
      "Closed Date      224619 non-null object\n",
      "Location Type    225414 non-null object\n",
      "Incident Zip     224424 non-null float64\n",
      "City             224424 non-null object\n",
      "Borough          225414 non-null object\n",
      "Latitude         223946 non-null float64\n",
      "Longitude        223946 non-null float64\n",
      "Month            225414 non-null int64\n",
      "Day              225414 non-null int64\n",
      "Time             225414 non-null object\n",
      "Weekday          225414 non-null object\n",
      "WeekdayInt       225414 non-null int64\n",
      "dtypes: float64(3), int64(3), object(7)\n",
      "memory usage: 22.4+ MB\n"
     ]
    }
   ],
   "source": [
    "calldata.info()"
   ]
  },
  {
   "cell_type": "markdown",
   "metadata": {},
   "source": [
    "## Plot all calls by Longitude/Latitude"
   ]
  },
  {
   "cell_type": "code",
   "execution_count": 7,
   "metadata": {
    "scrolled": true
   },
   "outputs": [
    {
     "data": {
      "text/plain": [
       "<matplotlib.axes._subplots.AxesSubplot at 0x249e1da1d68>"
      ]
     },
     "execution_count": 7,
     "metadata": {},
     "output_type": "execute_result"
    },
    {
     "data": {
      "image/png": "[encoded data removed]",
      "text/plain": [
       "<matplotlib.figure.Figure at 0x249d98f06d8>"
      ]
     },
     "metadata": {},
     "output_type": "display_data"
    }
   ],
   "source": [
    "calldata.plot(kind = 'scatter',x='Longitude',y='Latitude',xlim = (-74.3,-73.6),ylim = (40.4,41))"
   ]
  },
  {
   "cell_type": "markdown",
   "metadata": {},
   "source": [
    "## Plot only store/commercial calls by Longitude/Latitude"
   ]
  },
  {
   "cell_type": "code",
   "execution_count": 8,
   "metadata": {},
   "outputs": [
    {
     "data": {
      "text/plain": [
       "<matplotlib.axes._subplots.AxesSubplot at 0x249de85c5f8>"
      ]
     },
     "execution_count": 8,
     "metadata": {},
     "output_type": "execute_result"
    },
    {
     "data": {
      "image/png": "[encoded data removed]",
      "text/plain": [
       "<matplotlib.figure.Figure at 0x249d94e5470>"
      ]
     },
     "metadata": {},
     "output_type": "display_data"
    }
   ],
   "source": [
    "howdata = calldata.loc[calldata['Location Type'] == 'Store/Commercial']\n",
    "howdata.plot(kind = 'scatter',x='Longitude',y='Latitude',xlim = (-74.3,-73.6),ylim = (40.4,41))"
   ]
  },
  {
   "cell_type": "markdown",
   "metadata": {
    "collapsed": true
   },
   "source": [
    "## Hexbin and Density plots of all calls by Longitude/Latitude"
   ]
  },
  {
   "cell_type": "code",
   "execution_count": 9,
   "metadata": {},
   "outputs": [
    {
     "data": {
      "text/plain": [
       "<seaborn.axisgrid.JointGrid at 0x21dec2d0ef0>"
      ]
     },
     "execution_count": 9,
     "metadata": {},
     "output_type": "execute_result"
    },
    {
     "data": {
      "image/png": "[encoded data removed]",
      "text/plain": [
       "<matplotlib.figure.Figure at 0x21dec2d03c8>"
      ]
     },
     "metadata": {},
     "output_type": "display_data"
    }
   ],
   "source": [
    "sns.jointplot(x=\"Longitude\", y=\"Latitude\", data=calldata, kind=\"hex\",xlim = (-74.3,-73.6),ylim = (40.4,41))"
   ]
  },
  {
   "cell_type": "code",
   "execution_count": 10,
   "metadata": {},
   "outputs": [
    {
     "data": {
      "text/plain": [
       "<seaborn.axisgrid.JointGrid at 0x21dec32e7b8>"
      ]
     },
     "execution_count": 10,
     "metadata": {},
     "output_type": "execute_result"
    },
    {
     "data": {
      "image/png": "[encoded data removed]",
      "text/plain": [
       "<matplotlib.figure.Figure at 0x21dec3445f8>"
      ]
     },
     "metadata": {},
     "output_type": "display_data"
    }
   ],
   "source": [
    "sns.jointplot(x=\"Longitude\", y=\"Latitude\", data=calldata, kind=\"kde\",xlim = (-74.3,-73.6),ylim = (40.4,41))"
   ]
  },
  {
   "cell_type": "code",
   "execution_count": 9,
   "metadata": {},
   "outputs": [
    {
     "name": "stdout",
     "output_type": "stream",
     "text": [
      "<class 'pandas.core.frame.DataFrame'>\n",
      "RangeIndex: 225414 entries, 0 to 225413\n",
      "Data columns (total 14 columns):\n",
      "Created Date     225414 non-null object\n",
      "Closed Date      224619 non-null object\n",
      "Location Type    225414 non-null object\n",
      "Incident Zip     224424 non-null float64\n",
      "City             224424 non-null object\n",
      "Borough          225414 non-null object\n",
      "Latitude         223946 non-null float64\n",
      "Longitude        223946 non-null float64\n",
      "Month            225414 non-null int64\n",
      "Day              225414 non-null int64\n",
      "Time             225414 non-null object\n",
      "Weekday          225414 non-null object\n",
      "WeekdayInt       225414 non-null int64\n",
      "Hour             225414 non-null int64\n",
      "dtypes: float64(3), int64(4), object(7)\n",
      "memory usage: 24.1+ MB\n"
     ]
    }
   ],
   "source": [
    "#Bailey Stuff\n",
    "\n",
    "#Graph the density of calls to location type to hours in the day\n",
    "\n",
    "\n",
    "#created_series = calldata.iloc[:,0]\n",
    "#month_series = created_series.apply(getMonth)\n",
    "#day_series = created_series.apply(getDay)\n",
    "#time_series = created_series.apply(getTime)\n",
    "\n",
    "#calldata = calldata.assign(Month=month_series.values)\n",
    "#calldata = calldata.assign(Day=day_series.values)\n",
    "#calldata = calldata.assign(Time=time_series.values)\n",
    "#def getDay(created):\n",
    " #   day = (created.split()[0])\n",
    " #   day = day.split(sep = '-')\n",
    " #   day = day[-1]\n",
    " #   return day\n",
    "\n",
    "def getHour(time):\n",
    "    hour = int(time[0])\n",
    "    return hour\n",
    "\n",
    "hour_series = time_series.apply(getHour)\n",
    "\n",
    "calldata = calldata.assign(Hour=hour_series)\n",
    "calldata.head()\n",
    "\n",
    "#make histogram for all location types vs hours, each location type vs hours. City vs. hour, borough vs hour\n",
    "store = calldata.loc[calldata['Location Type'] == 'Store/Commercial']\n",
    "house = calldata.loc[calldata['Location Type'] == 'Residential Building/House']\n",
    "club = calldata.loc[calldata['Location Type'] == 'Club/Bar/Restaurant']\n",
    "street = calldata.loc[calldata['Location Type'] == 'Street/Sidewalk']\n",
    "park = calldata.loc[calldata['Location Type'] == 'Park/Playground']\n",
    "church = calldata.loc[calldata['Location Type'] == 'House of Worship']\n",
    "\n",
    "man = calldata.loc[calldata['Borough'] == 'MANHATTAN']\n",
    "bro = calldata.loc[calldata['Borough'] == 'BROOKLYN']\n",
    "brx = calldata.loc[calldata['Borough'] == 'BRONX']\n",
    "que = calldata.loc[calldata['Borough'] == 'QUEENS']\n",
    "sta = calldata.loc[calldata['Borough'] == 'STATEN ISLAND']\n",
    "uns = calldata.loc[calldata['Borough'] == 'Unspecified']\n",
    "calldata.info()"
   ]
  },
  {
   "cell_type": "code",
   "execution_count": 10,
   "metadata": {},
   "outputs": [
    {
     "data": {
      "text/plain": [
       "(array([ 60969.,  10743.,   3549.,   4616.,   5163.,   7003.,  14142.,\n",
       "         14337.,  24760.,  80132.]),\n",
       " array([  0. ,   2.3,   4.6,   6.9,   9.2,  11.5,  13.8,  16.1,  18.4,\n",
       "         20.7,  23. ]),\n",
       " <a list of 10 Patch objects>)"
      ]
     },
     "execution_count": 10,
     "metadata": {},
     "output_type": "execute_result"
    },
    {
     "data": {
      "image/png": "[encoded data removed]",
      "text/plain": [
       "<matplotlib.figure.Figure at 0x249e4d3a278>"
      ]
     },
     "metadata": {},
     "output_type": "display_data"
    }
   ],
   "source": [
    "plt.hist(calldata['Hour'])"
   ]
  },
  {
   "cell_type": "code",
   "execution_count": 11,
   "metadata": {},
   "outputs": [
    {
     "data": {
      "image/png": "[encoded data removed]",
      "text/plain": [
       "<matplotlib.figure.Figure at 0x249e4c2da20>"
      ]
     },
     "metadata": {},
     "output_type": "display_data"
    }
   ],
   "source": [
    "#Locations by hour\n",
    "\n",
    "fig = plt.figure()\n",
    "\n",
    "ax1 = fig.add_subplot(2, 3, 1)\n",
    "ax1.hist(store['Hour'])\n",
    "#ax1.title('Store/Commercial')\n",
    "ax2 = fig.add_subplot(2, 3, 2)\n",
    "ax2.hist(house['Hour'])\n",
    "#ax2.title('Residential Building/House')\n",
    "ax3 = fig.add_subplot(2, 3, 3)\n",
    "ax3.hist(club['Hour'])\n",
    "#ax3.title('Club/Bar/Restaurant')\n",
    "ax4 = fig.add_subplot(2, 3, 4)\n",
    "ax4.hist(street['Hour'])\n",
    "#ax4.title('Street/Sidewalk')\n",
    "ax5 = fig.add_subplot(2, 3, 5)\n",
    "ax5.hist(park['Hour'])\n",
    "#ax5.title('Park/Playground')\n",
    "ax6 = fig.add_subplot(2, 3, 6)\n",
    "ax6.hist(church['Hour'])\n",
    "#ax6.title('House of Worship')\n",
    "\n",
    "plt.show()"
   ]
  },
  {
   "cell_type": "code",
   "execution_count": 12,
   "metadata": {},
   "outputs": [
    {
     "data": {
      "image/png": "[encoded data removed]",
      "text/plain": [
       "<matplotlib.figure.Figure at 0x249e4c1e048>"
      ]
     },
     "metadata": {},
     "output_type": "display_data"
    }
   ],
   "source": [
    "#Borough by hour\n",
    "\n",
    "fig = plt.figure()\n",
    "\n",
    "ax1 = fig.add_subplot(2, 3, 1)\n",
    "ax1.hist(man['Hour'])\n",
    "#ax1.title('Store/Commercial')\n",
    "ax2 = fig.add_subplot(2, 3, 2)\n",
    "ax2.hist(bro['Hour'])\n",
    "#ax2.title('Residential Building/House')\n",
    "ax3 = fig.add_subplot(2, 3, 3)\n",
    "ax3.hist(brx['Hour'])\n",
    "#ax3.title('Club/Bar/Restaurant')\n",
    "ax4 = fig.add_subplot(2, 3, 4)\n",
    "ax4.hist(que['Hour'])\n",
    "#ax4.title('Street/Sidewalk')\n",
    "ax5 = fig.add_subplot(2, 3, 5)\n",
    "ax5.hist(sta['Hour'])\n",
    "#ax5.title('Park/Playground')\n",
    "ax6 = fig.add_subplot(2, 3, 6)\n",
    "ax6.hist(uns['Hour'])\n",
    "#ax6.title('House of Worship')\n",
    "\n",
    "plt.show()"
   ]
  },
  {
   "cell_type": "code",
   "execution_count": 13,
   "metadata": {
    "collapsed": true
   },
   "outputs": [],
   "source": [
    "# plot locations over a week\n",
    "mon = calldata.loc[calldata['WeekdayInt'] == 0]\n",
    "tues = calldata.loc[calldata['WeekdayInt'] == 1]\n",
    "wed = calldata.loc[calldata['WeekdayInt'] == 2]\n",
    "thurs = calldata.loc[calldata['WeekdayInt'] == 3]\n",
    "fri = calldata.loc[calldata['WeekdayInt'] == 4]\n",
    "sat = calldata.loc[calldata['WeekdayInt'] == 5]\n",
    "sun = calldata.loc[calldata['WeekdayInt'] == 6]\n"
   ]
  },
  {
   "cell_type": "code",
   "execution_count": 14,
   "metadata": {
    "collapsed": true
   },
   "outputs": [],
   "source": [
    "objects = ('mon', 'tues', 'wed', 'thurs', 'fri', 'sat', 'sun')\n",
    "y_pos = np.arange(len(objects))\n",
    "num_calls = [len(mon), len(tues), len(wed), len(thurs), len(fri), len(sat), len(sun)]"
   ]
  },
  {
   "cell_type": "code",
   "execution_count": 15,
   "metadata": {},
   "outputs": [
    {
     "data": {
      "text/plain": [
       "[20579, 16244, 17049, 19257, 30130, 61161, 60994]"
      ]
     },
     "execution_count": 15,
     "metadata": {},
     "output_type": "execute_result"
    },
    {
     "data": {
      "image/png": "[encoded data removed]",
      "text/plain": [
       "<matplotlib.figure.Figure at 0x249e4c11d30>"
      ]
     },
     "metadata": {},
     "output_type": "display_data"
    }
   ],
   "source": [
    "# currently a bar plot, could have been a histogram but why not\n",
    "plt.bar(y_pos, num_calls)\n",
    "num_calls"
   ]
  },
  {
   "cell_type": "code",
   "execution_count": 16,
   "metadata": {},
   "outputs": [
    {
     "data": {
      "image/png": "[encoded data removed]",
      "text/plain": [
       "<matplotlib.figure.Figure at 0x249e30476a0>"
      ]
     },
     "metadata": {},
     "output_type": "display_data"
    }
   ],
   "source": [
    "#Locations by weekday\n",
    "\n",
    "fig = plt.figure()\n",
    "\n",
    "ax1 = fig.add_subplot(2, 3, 1)\n",
    "ax1.hist(store['WeekdayInt'], bins = 7, rwidth = 0.8)\n",
    "#ax1.title('Store/Commercial')\n",
    "ax2 = fig.add_subplot(2, 3, 2)\n",
    "ax2.hist(house['WeekdayInt'], bins = 7, rwidth = 0.8)\n",
    "#ax2.title('Residential Building/House')\n",
    "ax3 = fig.add_subplot(2, 3, 3)\n",
    "ax3.hist(club['WeekdayInt'], bins = 7, rwidth = 0.8)\n",
    "#ax3.title('Club/Bar/Restaurant')\n",
    "ax4 = fig.add_subplot(2, 3, 4)\n",
    "ax4.hist(street['WeekdayInt'], bins = 7, rwidth = 0.8)\n",
    "#ax4.title('Street/Sidewalk')\n",
    "ax5 = fig.add_subplot(2, 3, 5)\n",
    "ax5.hist(park['WeekdayInt'], bins = 7, rwidth = 0.8)\n",
    "#ax5.title('Park/Playground')\n",
    "ax6 = fig.add_subplot(2, 3, 6)\n",
    "ax6.hist(church['WeekdayInt'], bins = 7, rwidth = 0.8)\n",
    "#ax6.title('House of Worship')\n",
    "\n",
    "plt.show()"
   ]
  },
  {
   "cell_type": "code",
   "execution_count": 17,
   "metadata": {},
   "outputs": [
    {
     "data": {
      "image/png": "[encoded data removed]",
      "text/plain": [
       "<matplotlib.figure.Figure at 0x249ea81e5c0>"
      ]
     },
     "metadata": {},
     "output_type": "display_data"
    }
   ],
   "source": [
    "# boroughs by weekday\n",
    "fig = plt.figure()\n",
    "\n",
    "ax1 = fig.add_subplot(2, 3, 1)\n",
    "ax1.hist(man['WeekdayInt'], bins = 7, rwidth = 0.8)\n",
    "ax2 = fig.add_subplot(2, 3, 2)\n",
    "ax2.hist(bro['WeekdayInt'], bins = 7, rwidth = 0.8)\n",
    "ax3 = fig.add_subplot(2, 3, 3)\n",
    "ax3.hist(brx['WeekdayInt'], bins = 7, rwidth = 0.8)\n",
    "ax4 = fig.add_subplot(2, 3, 4)\n",
    "ax4.hist(que['WeekdayInt'], bins = 7, rwidth = 0.8)\n",
    "ax5 = fig.add_subplot(2, 3, 5)\n",
    "ax5.hist(sta['WeekdayInt'], bins = 7, rwidth = 0.8)\n",
    "ax6 = fig.add_subplot(2, 3, 6)\n",
    "ax6.hist(uns['WeekdayInt'], bins = 7, rwidth = 0.8)\n",
    "\n",
    "plt.show()"
   ]
  },
  {
   "cell_type": "code",
   "execution_count": 17,
   "metadata": {
    "scrolled": true
   },
   "outputs": [
    {
     "ename": "ModuleNotFoundError",
     "evalue": "No module named 'plotly'",
     "output_type": "error",
     "traceback": [
      "\u001b[1;31m---------------------------------------------------------------------------\u001b[0m",
      "\u001b[1;31mModuleNotFoundError\u001b[0m                       Traceback (most recent call last)",
      "\u001b[1;32m<ipython-input-17-332e7c8193b5>\u001b[0m in \u001b[0;36m<module>\u001b[1;34m()\u001b[0m\n\u001b[1;32m----> 1\u001b[1;33m \u001b[1;32mimport\u001b[0m \u001b[0mplotly\u001b[0m\u001b[1;33m\u001b[0m\u001b[0m\n\u001b[0m\u001b[0;32m      2\u001b[0m \u001b[1;32mfrom\u001b[0m \u001b[0mplotly\u001b[0m\u001b[1;33m.\u001b[0m\u001b[0mgraph_objs\u001b[0m \u001b[1;32mimport\u001b[0m \u001b[0mScatter\u001b[0m\u001b[1;33m,\u001b[0m \u001b[0mLayout\u001b[0m\u001b[1;33m\u001b[0m\u001b[0m\n\u001b[0;32m      3\u001b[0m \u001b[1;33m\u001b[0m\u001b[0m\n\u001b[0;32m      4\u001b[0m \u001b[0mplotly\u001b[0m\u001b[1;33m.\u001b[0m\u001b[0moffline\u001b[0m\u001b[1;33m.\u001b[0m\u001b[0minit_notebook_mode\u001b[0m\u001b[1;33m(\u001b[0m\u001b[0mconnected\u001b[0m\u001b[1;33m=\u001b[0m\u001b[1;32mTrue\u001b[0m\u001b[1;33m)\u001b[0m\u001b[1;33m\u001b[0m\u001b[0m\n\u001b[0;32m      5\u001b[0m \u001b[1;33m\u001b[0m\u001b[0m\n",
      "\u001b[1;31mModuleNotFoundError\u001b[0m: No module named 'plotly'"
     ]
    }
   ],
   "source": [
    "import plotly\n",
    "from plotly.graph_objs import Scatter, Layout\n",
    "\n",
    "plotly.offline.init_notebook_mode(connected=True)\n",
    "\n",
    "plotly.offline.iplot({\n",
    "    \"data\": [Scatter(x=[1, 2, 3, 4], y=[4, 3, 2, 1])],\n",
    "    \"layout\": Layout(title=\"hello world\")\n",
    "})"
   ]
  },
  {
   "cell_type": "code",
   "execution_count": 18,
   "metadata": {},
   "outputs": [
    {
     "ename": "NameError",
     "evalue": "name 'plotly' is not defined",
     "output_type": "error",
     "traceback": [
      "\u001b[1;31m---------------------------------------------------------------------------\u001b[0m",
      "\u001b[1;31mNameError\u001b[0m                                 Traceback (most recent call last)",
      "\u001b[1;32m<ipython-input-18-40846c1fc7b6>\u001b[0m in \u001b[0;36m<module>\u001b[1;34m()\u001b[0m\n\u001b[0;32m     48\u001b[0m \u001b[1;33m\u001b[0m\u001b[0m\n\u001b[0;32m     49\u001b[0m \u001b[0mfig\u001b[0m \u001b[1;33m=\u001b[0m \u001b[0mdict\u001b[0m\u001b[1;33m(\u001b[0m \u001b[0mdata\u001b[0m\u001b[1;33m=\u001b[0m\u001b[0mdata\u001b[0m\u001b[1;33m,\u001b[0m \u001b[0mlayout\u001b[0m\u001b[1;33m=\u001b[0m\u001b[0mlayout\u001b[0m \u001b[1;33m)\u001b[0m\u001b[1;33m\u001b[0m\u001b[0m\n\u001b[1;32m---> 50\u001b[1;33m \u001b[0mplotly\u001b[0m\u001b[1;33m.\u001b[0m\u001b[0moffline\u001b[0m\u001b[1;33m.\u001b[0m\u001b[0miplot\u001b[0m\u001b[1;33m(\u001b[0m \u001b[0mfig\u001b[0m\u001b[1;33m,\u001b[0m \u001b[0mvalidate\u001b[0m\u001b[1;33m=\u001b[0m\u001b[1;32mFalse\u001b[0m\u001b[1;33m,\u001b[0m \u001b[0mfilename\u001b[0m\u001b[1;33m=\u001b[0m\u001b[1;34m'd3-airports'\u001b[0m \u001b[1;33m)\u001b[0m\u001b[1;33m\u001b[0m\u001b[0m\n\u001b[0m",
      "\u001b[1;31mNameError\u001b[0m: name 'plotly' is not defined"
     ]
    }
   ],
   "source": [
    "df = pd.read_csv('https://raw.githubusercontent.com/plotly/datasets/master/2011_february_us_airport_traffic.csv')\n",
    "df.head()\n",
    "\n",
    "df['text'] = df['airport'] + '' + df['city'] + ', ' + df['state'] + '' + 'Arrivals: ' + df['cnt'].astype(str)\n",
    "\n",
    "scl = [ [0,\"rgb(5, 10, 172)\"],[0.35,\"rgb(40, 60, 190)\"],[0.5,\"rgb(70, 100, 245)\"],\\\n",
    "    [0.6,\"rgb(90, 120, 245)\"],[0.7,\"rgb(106, 137, 247)\"],[1,\"rgb(220, 220, 220)\"] ]\n",
    "\n",
    "data = [ dict(\n",
    "        type = 'scattergeo',\n",
    "        locationmode = 'USA-states',\n",
    "        lon = df['long'],\n",
    "        lat = df['lat'],\n",
    "        text = df['text'],\n",
    "        mode = 'markers',\n",
    "        marker = dict(\n",
    "            size = 8,\n",
    "            opacity = 0.8,\n",
    "            reversescale = True,\n",
    "            autocolorscale = False,\n",
    "            symbol = 'square',\n",
    "            line = dict(\n",
    "                width=1,\n",
    "                color='rgba(102, 102, 102)'\n",
    "            ),\n",
    "            colorscale = scl,\n",
    "            cmin = 0,\n",
    "            color = df['cnt'],\n",
    "            cmax = df['cnt'].max(),\n",
    "            colorbar=dict(\n",
    "                title=\"Incoming flightsFebruary 2011\"\n",
    "            )\n",
    "        ))]\n",
    "\n",
    "layout = dict(\n",
    "        title = 'Most trafficked US airports<br>(Hover for airport names)',\n",
    "        colorbar = True,\n",
    "        geo = dict(\n",
    "            scope='usa',\n",
    "            projection=dict( type='albers usa' ),\n",
    "            showland = True,\n",
    "            landcolor = \"rgb(250, 250, 250)\",\n",
    "            subunitcolor = \"rgb(217, 217, 217)\",\n",
    "            countrycolor = \"rgb(217, 217, 217)\",\n",
    "            countrywidth = 0.5,\n",
    "            subunitwidth = 0.5\n",
    "        ),\n",
    "    )\n",
    "\n",
    "fig = dict( data=data, layout=layout )\n",
    "plotly.offline.iplot( fig, validate=False, filename='d3-airports' )"
   ]
  },
  {
   "cell_type": "code",
   "execution_count": null,
   "metadata": {
    "collapsed": true
   },
   "outputs": [],
   "source": []
  }
 ],
 "metadata": {
  "kernelspec": {
   "display_name": "Python 3",
   "language": "python",
   "name": "python3"
  },
  "language_info": {
   "codemirror_mode": {
    "name": "ipython",
    "version": 3
   },
   "file_extension": ".py",
   "mimetype": "text/x-python",
   "name": "python",
   "nbconvert_exporter": "python",
   "pygments_lexer": "ipython3",
   "version": "3.6.1"
  }
 },
 "nbformat": 4,
 "nbformat_minor": 2
}
