{
 "cells": [
  {
   "cell_type": "code",
   "execution_count": null,
   "metadata": {},
   "outputs": [],
   "source": [
    "import pandas as pd\n",
    "\n",
    "calldata = pd.read_csv('party_in_nyc.csv')\n",
    "calldata.head()"
   ]
  },
  {
   "cell_type": "code",
   "execution_count": null,
   "metadata": {
    "collapsed": true
   },
   "outputs": [],
   "source": [
    "# Create time column\n",
    "\n",
    "def getTime(created):\n",
    "    time = (created.split()[-1])\n",
    "    time = time.split(sep=':')\n",
    "    time = tuple(time)\n",
    "    return time\n",
    "\n",
    "def getMonth(created):\n",
    "    month = (created.split()[0])\n",
    "    month = month.split(sep = '-')\n",
    "    month = month[1]\n",
    "    return month\n",
    "\n",
    "def getDay(created):\n",
    "    day = (created.split()[0])\n",
    "    day = day.split(sep = '-')\n",
    "    day = day[-1]\n",
    "    return day\n",
    "\n",
    "created_series = calldata.iloc[:,0]\n",
    "month_series = created_series.apply(getMonth)\n",
    "day_series = created_series.apply(getDay)\n",
    "time_series = created_series.apply(getTime)\n",
    "\n",
    "calldata = calldata.assign(Month=month_series.values)\n",
    "calldata = calldata.assign(Day=day_series.values)\n",
    "calldata = calldata.assign(Time=time_series.values)\n",
    "\n",
    "calldata.head()\n"
   ]
  },
  {
   "cell_type": "code",
   "execution_count": null,
   "metadata": {},
   "outputs": [],
   "source": [
    "calldata.info()"
   ]
  },
  {
   "cell_type": "code",
   "execution_count": null,
   "metadata": {
    "scrolled": true
   },
   "outputs": [],
   "source": [
    "#Plot all calls by long/lat\n",
    "\n",
    "import matplotlib.pyplot as plt\n",
    "%matplotlib inline\n",
    "\n",
    "calldata.plot(kind = 'scatter',x='Longitude',y='Latitude',xlim = (-74.3,-73.6),ylim = (40.4,41))"
   ]
  },
  {
   "cell_type": "code",
   "execution_count": null,
   "metadata": {},
   "outputs": [],
   "source": [
    "#Plot only store/commercial calls by long/lat\n",
    "\n",
    "howdata = calldata.loc[calldata['Location Type'] == 'Store/Commercial']\n",
    "howdata.plot(kind = 'scatter',x='Longitude',y='Latitude',xlim = (-74.3,-73.6),ylim = (40.4,41))"
   ]
  },
  {
   "cell_type": "code",
   "execution_count": null,
   "metadata": {},
   "outputs": [],
   "source": [
    "import seaborn as sns\n",
    "f, ax = plt.subplots()\n",
    "sns.jointplot(x = 'Longitude', y = 'Latitude', data = calldata, kind = 'kde')"
   ]
  },
  {
   "cell_type": "code",
   "execution_count": null,
   "metadata": {
    "collapsed": true
   },
   "outputs": [],
   "source": []
  }
 ],
 "metadata": {
  "kernelspec": {
   "display_name": "Python 3",
   "language": "python",
   "name": "python3"
  },
  "language_info": {
   "codemirror_mode": {
    "name": "ipython",
    "version": 3
   },
   "file_extension": ".py",
   "mimetype": "text/x-python",
   "name": "python",
   "nbconvert_exporter": "python",
   "pygments_lexer": "ipython3",
   "version": "3.6.1"
  }
 },
 "nbformat": 4,
 "nbformat_minor": 2
}
