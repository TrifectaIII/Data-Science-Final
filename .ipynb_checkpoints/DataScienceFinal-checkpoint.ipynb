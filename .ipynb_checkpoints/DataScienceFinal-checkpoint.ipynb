{
 "cells": [
  {
   "cell_type": "code",
   "execution_count": 51,
   "metadata": {},
   "outputs": [
    {
     "data": {
      "text/html": [
       "<div>\n",
       "<style>\n",
       "    .dataframe thead tr:only-child th {\n",
       "        text-align: right;\n",
       "    }\n",
       "\n",
       "    .dataframe thead th {\n",
       "        text-align: left;\n",
       "    }\n",
       "\n",
       "    .dataframe tbody tr th {\n",
       "        vertical-align: top;\n",
       "    }\n",
       "</style>\n",
       "<table border=\"1\" class=\"dataframe\">\n",
       "  <thead>\n",
       "    <tr style=\"text-align: right;\">\n",
       "      <th></th>\n",
       "      <th>Created Date</th>\n",
       "      <th>Closed Date</th>\n",
       "      <th>Location Type</th>\n",
       "      <th>Incident Zip</th>\n",
       "      <th>City</th>\n",
       "      <th>Borough</th>\n",
       "      <th>Latitude</th>\n",
       "      <th>Longitude</th>\n",
       "    </tr>\n",
       "  </thead>\n",
       "  <tbody>\n",
       "    <tr>\n",
       "      <th>0</th>\n",
       "      <td>2015-12-31 00:01:15</td>\n",
       "      <td>2015-12-31 03:48:04</td>\n",
       "      <td>Store/Commercial</td>\n",
       "      <td>10034.0</td>\n",
       "      <td>NEW YORK</td>\n",
       "      <td>MANHATTAN</td>\n",
       "      <td>40.866183</td>\n",
       "      <td>-73.918930</td>\n",
       "    </tr>\n",
       "    <tr>\n",
       "      <th>1</th>\n",
       "      <td>2015-12-31 00:02:48</td>\n",
       "      <td>2015-12-31 04:36:13</td>\n",
       "      <td>Store/Commercial</td>\n",
       "      <td>10040.0</td>\n",
       "      <td>NEW YORK</td>\n",
       "      <td>MANHATTAN</td>\n",
       "      <td>40.859324</td>\n",
       "      <td>-73.931237</td>\n",
       "    </tr>\n",
       "    <tr>\n",
       "      <th>2</th>\n",
       "      <td>2015-12-31 00:03:25</td>\n",
       "      <td>2015-12-31 00:40:15</td>\n",
       "      <td>Residential Building/House</td>\n",
       "      <td>10026.0</td>\n",
       "      <td>NEW YORK</td>\n",
       "      <td>MANHATTAN</td>\n",
       "      <td>40.799415</td>\n",
       "      <td>-73.953371</td>\n",
       "    </tr>\n",
       "    <tr>\n",
       "      <th>3</th>\n",
       "      <td>2015-12-31 00:03:26</td>\n",
       "      <td>2015-12-31 01:53:38</td>\n",
       "      <td>Residential Building/House</td>\n",
       "      <td>11231.0</td>\n",
       "      <td>BROOKLYN</td>\n",
       "      <td>BROOKLYN</td>\n",
       "      <td>40.678285</td>\n",
       "      <td>-73.994668</td>\n",
       "    </tr>\n",
       "    <tr>\n",
       "      <th>4</th>\n",
       "      <td>2015-12-31 00:05:10</td>\n",
       "      <td>2015-12-31 03:49:10</td>\n",
       "      <td>Residential Building/House</td>\n",
       "      <td>10033.0</td>\n",
       "      <td>NEW YORK</td>\n",
       "      <td>MANHATTAN</td>\n",
       "      <td>40.850304</td>\n",
       "      <td>-73.938516</td>\n",
       "    </tr>\n",
       "  </tbody>\n",
       "</table>\n",
       "</div>"
      ],
      "text/plain": [
       "          Created Date          Closed Date               Location Type  \\\n",
       "0  2015-12-31 00:01:15  2015-12-31 03:48:04            Store/Commercial   \n",
       "1  2015-12-31 00:02:48  2015-12-31 04:36:13            Store/Commercial   \n",
       "2  2015-12-31 00:03:25  2015-12-31 00:40:15  Residential Building/House   \n",
       "3  2015-12-31 00:03:26  2015-12-31 01:53:38  Residential Building/House   \n",
       "4  2015-12-31 00:05:10  2015-12-31 03:49:10  Residential Building/House   \n",
       "\n",
       "   Incident Zip      City    Borough   Latitude  Longitude  \n",
       "0       10034.0  NEW YORK  MANHATTAN  40.866183 -73.918930  \n",
       "1       10040.0  NEW YORK  MANHATTAN  40.859324 -73.931237  \n",
       "2       10026.0  NEW YORK  MANHATTAN  40.799415 -73.953371  \n",
       "3       11231.0  BROOKLYN   BROOKLYN  40.678285 -73.994668  \n",
       "4       10033.0  NEW YORK  MANHATTAN  40.850304 -73.938516  "
      ]
     },
     "execution_count": 51,
     "metadata": {},
     "output_type": "execute_result"
    }
   ],
   "source": [
    "import pandas as pd\n",
    "\n",
    "calldata = pd.read_csv('party_in_nyc.csv')\n",
    "calldata.head()"
   ]
  },
  {
   "cell_type": "code",
   "execution_count": 52,
   "metadata": {},
   "outputs": [
    {
     "name": "stdout",
     "output_type": "stream",
     "text": [
      "<class 'pandas.core.frame.DataFrame'>\n",
      "RangeIndex: 225414 entries, 0 to 225413\n",
      "Data columns (total 8 columns):\n",
      "Created Date     225414 non-null object\n",
      "Closed Date      224619 non-null object\n",
      "Location Type    225414 non-null object\n",
      "Incident Zip     224424 non-null float64\n",
      "City             224424 non-null object\n",
      "Borough          225414 non-null object\n",
      "Latitude         223946 non-null float64\n",
      "Longitude        223946 non-null float64\n",
      "dtypes: float64(3), object(5)\n",
      "memory usage: 13.8+ MB\n"
     ]
    }
   ],
   "source": [
    "calldata.info()"
   ]
  },
  {
   "cell_type": "code",
   "execution_count": 53,
   "metadata": {
    "scrolled": true
   },
   "outputs": [
    {
     "data": {
      "text/plain": [
       "<matplotlib.axes._subplots.AxesSubplot at 0x2a80e564630>"
      ]
     },
     "execution_count": 53,
     "metadata": {},
     "output_type": "execute_result"
    },
    {
     "data": {
      "image/png": "[encoded data removed]",
      "text/plain": [
       "<matplotlib.figure.Figure at 0x2a80e360240>"
      ]
     },
     "metadata": {},
     "output_type": "display_data"
    }
   ],
   "source": [
    "import matplotlib.pyplot as plt\n",
    "%matplotlib inline\n",
    "\n",
    "calldata.plot(kind = 'scatter',x='Longitude',y='Latitude',xlim = (-74.3,-73.6),ylim = (40.4,41))"
   ]
  },
  {
   "cell_type": "code",
   "execution_count": 54,
   "metadata": {},
   "outputs": [
    {
     "name": "stdout",
     "output_type": "stream",
     "text": [
      "Created Date     2015-12-31 00:01:15\n",
      "Closed Date      2015-12-31 03:48:04\n",
      "Location Type       Store/Commercial\n",
      "Incident Zip                   10034\n",
      "City                        NEW YORK\n",
      "Borough                    MANHATTAN\n",
      "Latitude                     40.8662\n",
      "Longitude                   -73.9189\n",
      "Name: 0, dtype: object\n"
     ]
    }
   ],
   "source": [
    "print(calldata.loc[0])\n"
   ]
  },
  {
   "cell_type": "code",
   "execution_count": 55,
   "metadata": {},
   "outputs": [
    {
     "data": {
      "text/plain": [
       "(array([0, 0, 1, ..., 1, 1, 1], dtype=int64),\n",
       " Index(['Store/Commercial', 'Residential Building/House', 'Club/Bar/Restaurant',\n",
       "        'Street/Sidewalk', 'Park/Playground', 'House of Worship'],\n",
       "       dtype='object'))"
      ]
     },
     "execution_count": 55,
     "metadata": {},
     "output_type": "execute_result"
    }
   ],
   "source": [
    "pd.factorize(calldata['Location Type'])"
   ]
  },
  {
   "cell_type": "code",
   "execution_count": 58,
   "metadata": {},
   "outputs": [
    {
     "data": {
      "text/plain": [
       "<matplotlib.axes._subplots.AxesSubplot at 0x2a80973fac8>"
      ]
     },
     "execution_count": 58,
     "metadata": {},
     "output_type": "execute_result"
    },
    {
     "data": {
      "image/png": "[encoded data removed]",
      "text/plain": [
       "<matplotlib.figure.Figure at 0x2a80dee67f0>"
      ]
     },
     "metadata": {},
     "output_type": "display_data"
    }
   ],
   "source": [
    "howdata = calldata.loc[calldata['Location Type'] == 'Store/Commercial']\n",
    "howdata.plot(kind = 'scatter',x='Longitude',y='Latitude',xlim = (-74.3,-73.6),ylim = (40.4,41))"
   ]
  },
  {
   "cell_type": "code",
   "execution_count": null,
   "metadata": {},
   "outputs": [],
   "source": []
  }
 ],
 "metadata": {
  "kernelspec": {
   "display_name": "Python 3",
   "language": "python",
   "name": "python3"
  },
  "language_info": {
   "codemirror_mode": {
    "name": "ipython",
    "version": 3
   },
   "file_extension": ".py",
   "mimetype": "text/x-python",
   "name": "python",
   "nbconvert_exporter": "python",
   "pygments_lexer": "ipython3",
   "version": "3.6.1"
  }
 },
 "nbformat": 4,
 "nbformat_minor": 2
}
