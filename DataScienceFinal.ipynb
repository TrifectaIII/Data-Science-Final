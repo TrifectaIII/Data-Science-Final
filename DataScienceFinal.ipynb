{
 "cells": [
  {
   "cell_type": "code",
   "execution_count": 1,
   "metadata": {},
   "outputs": [
    {
     "data": {
      "text/html": [
       "<div>\n",
       "<style>\n",
       "    .dataframe thead tr:only-child th {\n",
       "        text-align: right;\n",
       "    }\n",
       "\n",
       "    .dataframe thead th {\n",
       "        text-align: left;\n",
       "    }\n",
       "\n",
       "    .dataframe tbody tr th {\n",
       "        vertical-align: top;\n",
       "    }\n",
       "</style>\n",
       "<table border=\"1\" class=\"dataframe\">\n",
       "  <thead>\n",
       "    <tr style=\"text-align: right;\">\n",
       "      <th></th>\n",
       "      <th>Created Date</th>\n",
       "      <th>Closed Date</th>\n",
       "      <th>Location Type</th>\n",
       "      <th>Incident Zip</th>\n",
       "      <th>City</th>\n",
       "      <th>Borough</th>\n",
       "      <th>Latitude</th>\n",
       "      <th>Longitude</th>\n",
       "    </tr>\n",
       "  </thead>\n",
       "  <tbody>\n",
       "    <tr>\n",
       "      <th>0</th>\n",
       "      <td>2015-12-31 00:01:15</td>\n",
       "      <td>2015-12-31 03:48:04</td>\n",
       "      <td>Store/Commercial</td>\n",
       "      <td>10034.0</td>\n",
       "      <td>NEW YORK</td>\n",
       "      <td>MANHATTAN</td>\n",
       "      <td>40.866183</td>\n",
       "      <td>-73.918930</td>\n",
       "    </tr>\n",
       "    <tr>\n",
       "      <th>1</th>\n",
       "      <td>2015-12-31 00:02:48</td>\n",
       "      <td>2015-12-31 04:36:13</td>\n",
       "      <td>Store/Commercial</td>\n",
       "      <td>10040.0</td>\n",
       "      <td>NEW YORK</td>\n",
       "      <td>MANHATTAN</td>\n",
       "      <td>40.859324</td>\n",
       "      <td>-73.931237</td>\n",
       "    </tr>\n",
       "    <tr>\n",
       "      <th>2</th>\n",
       "      <td>2015-12-31 00:03:25</td>\n",
       "      <td>2015-12-31 00:40:15</td>\n",
       "      <td>Residential Building/House</td>\n",
       "      <td>10026.0</td>\n",
       "      <td>NEW YORK</td>\n",
       "      <td>MANHATTAN</td>\n",
       "      <td>40.799415</td>\n",
       "      <td>-73.953371</td>\n",
       "    </tr>\n",
       "    <tr>\n",
       "      <th>3</th>\n",
       "      <td>2015-12-31 00:03:26</td>\n",
       "      <td>2015-12-31 01:53:38</td>\n",
       "      <td>Residential Building/House</td>\n",
       "      <td>11231.0</td>\n",
       "      <td>BROOKLYN</td>\n",
       "      <td>BROOKLYN</td>\n",
       "      <td>40.678285</td>\n",
       "      <td>-73.994668</td>\n",
       "    </tr>\n",
       "    <tr>\n",
       "      <th>4</th>\n",
       "      <td>2015-12-31 00:05:10</td>\n",
       "      <td>2015-12-31 03:49:10</td>\n",
       "      <td>Residential Building/House</td>\n",
       "      <td>10033.0</td>\n",
       "      <td>NEW YORK</td>\n",
       "      <td>MANHATTAN</td>\n",
       "      <td>40.850304</td>\n",
       "      <td>-73.938516</td>\n",
       "    </tr>\n",
       "  </tbody>\n",
       "</table>\n",
       "</div>"
      ],
      "text/plain": [
       "          Created Date          Closed Date               Location Type  \\\n",
       "0  2015-12-31 00:01:15  2015-12-31 03:48:04            Store/Commercial   \n",
       "1  2015-12-31 00:02:48  2015-12-31 04:36:13            Store/Commercial   \n",
       "2  2015-12-31 00:03:25  2015-12-31 00:40:15  Residential Building/House   \n",
       "3  2015-12-31 00:03:26  2015-12-31 01:53:38  Residential Building/House   \n",
       "4  2015-12-31 00:05:10  2015-12-31 03:49:10  Residential Building/House   \n",
       "\n",
       "   Incident Zip      City    Borough   Latitude  Longitude  \n",
       "0       10034.0  NEW YORK  MANHATTAN  40.866183 -73.918930  \n",
       "1       10040.0  NEW YORK  MANHATTAN  40.859324 -73.931237  \n",
       "2       10026.0  NEW YORK  MANHATTAN  40.799415 -73.953371  \n",
       "3       11231.0  BROOKLYN   BROOKLYN  40.678285 -73.994668  \n",
       "4       10033.0  NEW YORK  MANHATTAN  40.850304 -73.938516  "
      ]
     },
     "execution_count": 1,
     "metadata": {},
     "output_type": "execute_result"
    }
   ],
   "source": [
    "import pandas as pd\n",
    "\n",
    "calldata = pd.read_csv('party_in_nyc.csv')\n",
    "calldata.head()"
   ]
  },
  {
   "cell_type": "code",
   "execution_count": 2,
   "metadata": {},
   "outputs": [
    {
     "data": {
      "text/html": [
       "<div>\n",
       "<style>\n",
       "    .dataframe thead tr:only-child th {\n",
       "        text-align: right;\n",
       "    }\n",
       "\n",
       "    .dataframe thead th {\n",
       "        text-align: left;\n",
       "    }\n",
       "\n",
       "    .dataframe tbody tr th {\n",
       "        vertical-align: top;\n",
       "    }\n",
       "</style>\n",
       "<table border=\"1\" class=\"dataframe\">\n",
       "  <thead>\n",
       "    <tr style=\"text-align: right;\">\n",
       "      <th></th>\n",
       "      <th>Created Date</th>\n",
       "      <th>Closed Date</th>\n",
       "      <th>Location Type</th>\n",
       "      <th>Incident Zip</th>\n",
       "      <th>City</th>\n",
       "      <th>Borough</th>\n",
       "      <th>Latitude</th>\n",
       "      <th>Longitude</th>\n",
       "      <th>Month</th>\n",
       "      <th>Day</th>\n",
       "      <th>Time</th>\n",
       "    </tr>\n",
       "  </thead>\n",
       "  <tbody>\n",
       "    <tr>\n",
       "      <th>0</th>\n",
       "      <td>2015-12-31 00:01:15</td>\n",
       "      <td>2015-12-31 03:48:04</td>\n",
       "      <td>Store/Commercial</td>\n",
       "      <td>10034.0</td>\n",
       "      <td>NEW YORK</td>\n",
       "      <td>MANHATTAN</td>\n",
       "      <td>40.866183</td>\n",
       "      <td>-73.918930</td>\n",
       "      <td>12</td>\n",
       "      <td>31</td>\n",
       "      <td>(00, 01, 15)</td>\n",
       "    </tr>\n",
       "    <tr>\n",
       "      <th>1</th>\n",
       "      <td>2015-12-31 00:02:48</td>\n",
       "      <td>2015-12-31 04:36:13</td>\n",
       "      <td>Store/Commercial</td>\n",
       "      <td>10040.0</td>\n",
       "      <td>NEW YORK</td>\n",
       "      <td>MANHATTAN</td>\n",
       "      <td>40.859324</td>\n",
       "      <td>-73.931237</td>\n",
       "      <td>12</td>\n",
       "      <td>31</td>\n",
       "      <td>(00, 02, 48)</td>\n",
       "    </tr>\n",
       "    <tr>\n",
       "      <th>2</th>\n",
       "      <td>2015-12-31 00:03:25</td>\n",
       "      <td>2015-12-31 00:40:15</td>\n",
       "      <td>Residential Building/House</td>\n",
       "      <td>10026.0</td>\n",
       "      <td>NEW YORK</td>\n",
       "      <td>MANHATTAN</td>\n",
       "      <td>40.799415</td>\n",
       "      <td>-73.953371</td>\n",
       "      <td>12</td>\n",
       "      <td>31</td>\n",
       "      <td>(00, 03, 25)</td>\n",
       "    </tr>\n",
       "    <tr>\n",
       "      <th>3</th>\n",
       "      <td>2015-12-31 00:03:26</td>\n",
       "      <td>2015-12-31 01:53:38</td>\n",
       "      <td>Residential Building/House</td>\n",
       "      <td>11231.0</td>\n",
       "      <td>BROOKLYN</td>\n",
       "      <td>BROOKLYN</td>\n",
       "      <td>40.678285</td>\n",
       "      <td>-73.994668</td>\n",
       "      <td>12</td>\n",
       "      <td>31</td>\n",
       "      <td>(00, 03, 26)</td>\n",
       "    </tr>\n",
       "    <tr>\n",
       "      <th>4</th>\n",
       "      <td>2015-12-31 00:05:10</td>\n",
       "      <td>2015-12-31 03:49:10</td>\n",
       "      <td>Residential Building/House</td>\n",
       "      <td>10033.0</td>\n",
       "      <td>NEW YORK</td>\n",
       "      <td>MANHATTAN</td>\n",
       "      <td>40.850304</td>\n",
       "      <td>-73.938516</td>\n",
       "      <td>12</td>\n",
       "      <td>31</td>\n",
       "      <td>(00, 05, 10)</td>\n",
       "    </tr>\n",
       "  </tbody>\n",
       "</table>\n",
       "</div>"
      ],
      "text/plain": [
       "          Created Date          Closed Date               Location Type  \\\n",
       "0  2015-12-31 00:01:15  2015-12-31 03:48:04            Store/Commercial   \n",
       "1  2015-12-31 00:02:48  2015-12-31 04:36:13            Store/Commercial   \n",
       "2  2015-12-31 00:03:25  2015-12-31 00:40:15  Residential Building/House   \n",
       "3  2015-12-31 00:03:26  2015-12-31 01:53:38  Residential Building/House   \n",
       "4  2015-12-31 00:05:10  2015-12-31 03:49:10  Residential Building/House   \n",
       "\n",
       "   Incident Zip      City    Borough   Latitude  Longitude Month Day  \\\n",
       "0       10034.0  NEW YORK  MANHATTAN  40.866183 -73.918930    12  31   \n",
       "1       10040.0  NEW YORK  MANHATTAN  40.859324 -73.931237    12  31   \n",
       "2       10026.0  NEW YORK  MANHATTAN  40.799415 -73.953371    12  31   \n",
       "3       11231.0  BROOKLYN   BROOKLYN  40.678285 -73.994668    12  31   \n",
       "4       10033.0  NEW YORK  MANHATTAN  40.850304 -73.938516    12  31   \n",
       "\n",
       "           Time  \n",
       "0  (00, 01, 15)  \n",
       "1  (00, 02, 48)  \n",
       "2  (00, 03, 25)  \n",
       "3  (00, 03, 26)  \n",
       "4  (00, 05, 10)  "
      ]
     },
     "execution_count": 2,
     "metadata": {},
     "output_type": "execute_result"
    }
   ],
   "source": [
    "# Create time column\n",
    "\n",
    "def getTime(created):\n",
    "    time = (created.split()[-1])\n",
    "    time = time.split(sep=':')\n",
    "    time = tuple(time)\n",
    "    return time\n",
    "\n",
    "def getMonth(created):\n",
    "    month = (created.split()[0])\n",
    "    month = month.split(sep = '-')\n",
    "    month = month[1]\n",
    "    return month\n",
    "\n",
    "def getDay(created):\n",
    "    day = (created.split()[0])\n",
    "    day = day.split(sep = '-')\n",
    "    day = day[-1]\n",
    "    return day\n",
    "\n",
    "created_series = calldata.iloc[:,0]\n",
    "month_series = created_series.apply(getMonth)\n",
    "day_series = created_series.apply(getDay)\n",
    "time_series = created_series.apply(getTime)\n",
    "\n",
    "calldata = calldata.assign(Month=month_series.values)\n",
    "calldata = calldata.assign(Day=day_series.values)\n",
    "calldata = calldata.assign(Time=time_series.values)\n",
    "\n",
    "calldata.head()\n"
   ]
  },
  {
   "cell_type": "code",
   "execution_count": 3,
   "metadata": {},
   "outputs": [
    {
     "name": "stdout",
     "output_type": "stream",
     "text": [
      "<class 'pandas.core.frame.DataFrame'>\n",
      "RangeIndex: 225414 entries, 0 to 225413\n",
      "Data columns (total 11 columns):\n",
      "Created Date     225414 non-null object\n",
      "Closed Date      224619 non-null object\n",
      "Location Type    225414 non-null object\n",
      "Incident Zip     224424 non-null float64\n",
      "City             224424 non-null object\n",
      "Borough          225414 non-null object\n",
      "Latitude         223946 non-null float64\n",
      "Longitude        223946 non-null float64\n",
      "Month            225414 non-null object\n",
      "Day              225414 non-null object\n",
      "Time             225414 non-null object\n",
      "dtypes: float64(3), object(8)\n",
      "memory usage: 18.9+ MB\n"
     ]
    }
   ],
   "source": [
    "calldata.info()"
   ]
  },
  {
   "cell_type": "code",
   "execution_count": 4,
   "metadata": {
    "scrolled": true
   },
   "outputs": [
    {
     "data": {
      "text/plain": [
       "<matplotlib.axes._subplots.AxesSubplot at 0x195e8cb31d0>"
      ]
     },
     "execution_count": 4,
     "metadata": {},
     "output_type": "execute_result"
    },
    {
     "data": {
      "image/png": "[encoded data removed]",
      "text/plain": [
       "<matplotlib.figure.Figure at 0x195e91f8d30>"
      ]
     },
     "metadata": {},
     "output_type": "display_data"
    }
   ],
   "source": [
    "#Plot all calls by long/lat\n",
    "\n",
    "import matplotlib.pyplot as plt\n",
    "%matplotlib inline\n",
    "\n",
    "calldata.plot(kind = 'scatter',x='Longitude',y='Latitude',xlim = (-74.3,-73.6),ylim = (40.4,41))"
   ]
  },
  {
   "cell_type": "code",
   "execution_count": null,
   "metadata": {},
   "outputs": [
    {
     "data": {
      "text/plain": [
       "<matplotlib.axes._subplots.AxesSubplot at 0x195eb6c8588>"
      ]
     },
     "execution_count": 5,
     "metadata": {},
     "output_type": "execute_result"
    },
    {
     "data": {
      "image/png": "[encoded data removed]",
      "text/plain": [
       "<matplotlib.figure.Figure at 0x195ebd3b4e0>"
      ]
     },
     "metadata": {},
     "output_type": "display_data"
    }
   ],
   "source": [
    "#Plot only store/commercial calls by long/lat\n",
    "\n",
    "howdata = calldata.loc[calldata['Location Type'] == 'Store/Commercial']\n",
    "howdata.plot(kind = 'scatter',x='Longitude',y='Latitude',xlim = (-74.3,-73.6),ylim = (40.4,41))"
   ]
  },
  {
   "cell_type": "code",
   "execution_count": null,
   "metadata": {
    "collapsed": true
   },
   "outputs": [],
   "source": [
    "import seaborn as sns\n",
    "f, ax = plt.subplots()\n",
    "sns.jointplot(x = 'Longitude', y = 'Latitude', data = calldata, kind = 'kde')"
   ]
  },
  {
   "cell_type": "code",
   "execution_count": null,
   "metadata": {
    "collapsed": true
   },
   "outputs": [],
   "source": []
  }
 ],
 "metadata": {
  "kernelspec": {
   "display_name": "Python 3",
   "language": "python",
   "name": "python3"
  },
  "language_info": {
   "codemirror_mode": {
    "name": "ipython",
    "version": 3
   },
   "file_extension": ".py",
   "mimetype": "text/x-python",
   "name": "python",
   "nbconvert_exporter": "python",
   "pygments_lexer": "ipython3",
   "version": "3.6.1"
  }
 },
 "nbformat": 4,
 "nbformat_minor": 2
}
