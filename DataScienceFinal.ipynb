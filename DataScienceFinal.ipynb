{
 "cells": [
  {
   "cell_type": "markdown",
   "metadata": {},
   "source": [
    "## Import Data into Python Using Pandas"
   ]
  },
  {
   "cell_type": "code",
   "execution_count": 11,
   "metadata": {
    "collapsed": true,
    "scrolled": false
   },
   "outputs": [],
   "source": [
    "import pandas as pd\n",
    "import matplotlib.pyplot as plt\n",
    "import seaborn as sns\n",
    "import numpy as np\n",
    "\n",
    "%matplotlib inline\n",
    "\n",
    "calldata = pd.read_csv('party_in_nyc.csv')\n",
    "#calldata.head()"
   ]
  },
  {
   "cell_type": "markdown",
   "metadata": {},
   "source": [
    "## Create Columns for Month, Day, and Time \n",
    "### Time is a tuple of (Hour, Minute, Second)"
   ]
  },
  {
   "cell_type": "code",
   "execution_count": 12,
   "metadata": {
    "collapsed": true
   },
   "outputs": [],
   "source": [
    "# Create time column\n",
    "\n",
    "def getTime(created):\n",
    "    time = (created.split()[-1])\n",
    "    time = time.split(sep=':')\n",
    "    time = tuple(time)\n",
    "    return time\n",
    "\n",
    "def getMonth(created):\n",
    "    month = (created.split()[0])\n",
    "    month = month.split(sep = '-')\n",
    "    month = int(month[1])\n",
    "    return month\n",
    "\n",
    "def getDay(created):\n",
    "    day = (created.split()[0])\n",
    "    day = day.split(sep = '-')\n",
    "    day = int(day[-1])\n",
    "    return day\n",
    "\n",
    "created_series = calldata.iloc[:,0]\n",
    "month_series = created_series.apply(getMonth)\n",
    "day_series = created_series.apply(getDay)\n",
    "time_series = created_series.apply(getTime)\n",
    "\n",
    "calldata = calldata.assign(Month=month_series.values)\n",
    "calldata = calldata.assign(Day=day_series.values)\n",
    "calldata = calldata.assign(Time=time_series.values)\n",
    "\n",
    "#calldata.head()\n"
   ]
  },
  {
   "cell_type": "code",
   "execution_count": 13,
   "metadata": {
    "collapsed": true
   },
   "outputs": [],
   "source": [
    "from datetime import date"
   ]
  },
  {
   "cell_type": "code",
   "execution_count": 14,
   "metadata": {
    "collapsed": true
   },
   "outputs": [],
   "source": [
    "# add weekday column\n",
    "def getYear(created):\n",
    "    year = (created.split()[0])\n",
    "    year = year.split(sep = '-')\n",
    "    year = int(year[0])\n",
    "    return year\n",
    "\n",
    "def getWeekday(created):\n",
    "    day = getDay(created)\n",
    "    month = getMonth(created)\n",
    "    year = getYear(created)\n",
    "    newDate = date(int(year), int(month), int(day))\n",
    "    newDate = newDate.weekday()\n",
    "    if newDate == 0:\n",
    "        newDate = 'Monday'\n",
    "    elif newDate == 1:\n",
    "        newDate = 'Tuesday'\n",
    "    elif newDate == 2:\n",
    "        newDate = 'Wednesday'\n",
    "    elif newDate == 3:\n",
    "        newDate = 'Thursday'\n",
    "    elif newDate == 4:\n",
    "        newDate = 'Friday'\n",
    "    elif newDate == 5:\n",
    "        newDate = 'Saturday'\n",
    "    elif newDate == 6:\n",
    "        newDate = 'Sunday'\n",
    "    else:\n",
    "        newDate = 'Wrong'\n",
    "    return newDate\n",
    "\n",
    "# returns weekday as int, starting with 0 as monday\n",
    "def getWeekdayInt(created):\n",
    "    day = getDay(created)\n",
    "    month = getMonth(created)\n",
    "    year = getYear(created)\n",
    "    newDate = date(int(year), int(month), int(day))\n",
    "    newDate = newDate.weekday()\n",
    "    return newDate\n"
   ]
  },
  {
   "cell_type": "code",
   "execution_count": 15,
   "metadata": {},
   "outputs": [
    {
     "data": {
      "text/html": [
       "<div>\n",
       "<style>\n",
       "    .dataframe thead tr:only-child th {\n",
       "        text-align: right;\n",
       "    }\n",
       "\n",
       "    .dataframe thead th {\n",
       "        text-align: left;\n",
       "    }\n",
       "\n",
       "    .dataframe tbody tr th {\n",
       "        vertical-align: top;\n",
       "    }\n",
       "</style>\n",
       "<table border=\"1\" class=\"dataframe\">\n",
       "  <thead>\n",
       "    <tr style=\"text-align: right;\">\n",
       "      <th></th>\n",
       "      <th>Created Date</th>\n",
       "      <th>Closed Date</th>\n",
       "      <th>Location Type</th>\n",
       "      <th>Incident Zip</th>\n",
       "      <th>City</th>\n",
       "      <th>Borough</th>\n",
       "      <th>Latitude</th>\n",
       "      <th>Longitude</th>\n",
       "      <th>Month</th>\n",
       "      <th>Day</th>\n",
       "      <th>Time</th>\n",
       "      <th>Weekday</th>\n",
       "      <th>WeekdayInt</th>\n",
       "    </tr>\n",
       "  </thead>\n",
       "  <tbody>\n",
       "    <tr>\n",
       "      <th>0</th>\n",
       "      <td>2015-12-31 00:01:15</td>\n",
       "      <td>2015-12-31 03:48:04</td>\n",
       "      <td>Store/Commercial</td>\n",
       "      <td>10034.0</td>\n",
       "      <td>NEW YORK</td>\n",
       "      <td>MANHATTAN</td>\n",
       "      <td>40.866183</td>\n",
       "      <td>-73.918930</td>\n",
       "      <td>12</td>\n",
       "      <td>31</td>\n",
       "      <td>(00, 01, 15)</td>\n",
       "      <td>Thursday</td>\n",
       "      <td>3</td>\n",
       "    </tr>\n",
       "    <tr>\n",
       "      <th>1</th>\n",
       "      <td>2015-12-31 00:02:48</td>\n",
       "      <td>2015-12-31 04:36:13</td>\n",
       "      <td>Store/Commercial</td>\n",
       "      <td>10040.0</td>\n",
       "      <td>NEW YORK</td>\n",
       "      <td>MANHATTAN</td>\n",
       "      <td>40.859324</td>\n",
       "      <td>-73.931237</td>\n",
       "      <td>12</td>\n",
       "      <td>31</td>\n",
       "      <td>(00, 02, 48)</td>\n",
       "      <td>Thursday</td>\n",
       "      <td>3</td>\n",
       "    </tr>\n",
       "    <tr>\n",
       "      <th>2</th>\n",
       "      <td>2015-12-31 00:03:25</td>\n",
       "      <td>2015-12-31 00:40:15</td>\n",
       "      <td>Residential Building/House</td>\n",
       "      <td>10026.0</td>\n",
       "      <td>NEW YORK</td>\n",
       "      <td>MANHATTAN</td>\n",
       "      <td>40.799415</td>\n",
       "      <td>-73.953371</td>\n",
       "      <td>12</td>\n",
       "      <td>31</td>\n",
       "      <td>(00, 03, 25)</td>\n",
       "      <td>Thursday</td>\n",
       "      <td>3</td>\n",
       "    </tr>\n",
       "    <tr>\n",
       "      <th>3</th>\n",
       "      <td>2015-12-31 00:03:26</td>\n",
       "      <td>2015-12-31 01:53:38</td>\n",
       "      <td>Residential Building/House</td>\n",
       "      <td>11231.0</td>\n",
       "      <td>BROOKLYN</td>\n",
       "      <td>BROOKLYN</td>\n",
       "      <td>40.678285</td>\n",
       "      <td>-73.994668</td>\n",
       "      <td>12</td>\n",
       "      <td>31</td>\n",
       "      <td>(00, 03, 26)</td>\n",
       "      <td>Thursday</td>\n",
       "      <td>3</td>\n",
       "    </tr>\n",
       "    <tr>\n",
       "      <th>4</th>\n",
       "      <td>2015-12-31 00:05:10</td>\n",
       "      <td>2015-12-31 03:49:10</td>\n",
       "      <td>Residential Building/House</td>\n",
       "      <td>10033.0</td>\n",
       "      <td>NEW YORK</td>\n",
       "      <td>MANHATTAN</td>\n",
       "      <td>40.850304</td>\n",
       "      <td>-73.938516</td>\n",
       "      <td>12</td>\n",
       "      <td>31</td>\n",
       "      <td>(00, 05, 10)</td>\n",
       "      <td>Thursday</td>\n",
       "      <td>3</td>\n",
       "    </tr>\n",
       "  </tbody>\n",
       "</table>\n",
       "</div>"
      ],
      "text/plain": [
       "          Created Date          Closed Date               Location Type  \\\n",
       "0  2015-12-31 00:01:15  2015-12-31 03:48:04            Store/Commercial   \n",
       "1  2015-12-31 00:02:48  2015-12-31 04:36:13            Store/Commercial   \n",
       "2  2015-12-31 00:03:25  2015-12-31 00:40:15  Residential Building/House   \n",
       "3  2015-12-31 00:03:26  2015-12-31 01:53:38  Residential Building/House   \n",
       "4  2015-12-31 00:05:10  2015-12-31 03:49:10  Residential Building/House   \n",
       "\n",
       "   Incident Zip      City    Borough   Latitude  Longitude  Month  Day  \\\n",
       "0       10034.0  NEW YORK  MANHATTAN  40.866183 -73.918930     12   31   \n",
       "1       10040.0  NEW YORK  MANHATTAN  40.859324 -73.931237     12   31   \n",
       "2       10026.0  NEW YORK  MANHATTAN  40.799415 -73.953371     12   31   \n",
       "3       11231.0  BROOKLYN   BROOKLYN  40.678285 -73.994668     12   31   \n",
       "4       10033.0  NEW YORK  MANHATTAN  40.850304 -73.938516     12   31   \n",
       "\n",
       "           Time   Weekday  WeekdayInt  \n",
       "0  (00, 01, 15)  Thursday           3  \n",
       "1  (00, 02, 48)  Thursday           3  \n",
       "2  (00, 03, 25)  Thursday           3  \n",
       "3  (00, 03, 26)  Thursday           3  \n",
       "4  (00, 05, 10)  Thursday           3  "
      ]
     },
     "execution_count": 15,
     "metadata": {},
     "output_type": "execute_result"
    }
   ],
   "source": [
    "created_series = calldata.iloc[:,0]\n",
    "weekday_series = created_series.apply(getWeekday)\n",
    "weekday_int_series = created_series.apply(getWeekdayInt)\n",
    "\n",
    "calldata = calldata.assign(Weekday = weekday_series.values)\n",
    "calldata = calldata.assign(WeekdayInt = weekday_int_series.values)\n",
    "calldata.head()"
   ]
  },
  {
   "cell_type": "code",
   "execution_count": 16,
   "metadata": {},
   "outputs": [
    {
     "name": "stdout",
     "output_type": "stream",
     "text": [
      "<class 'pandas.core.frame.DataFrame'>\n",
      "RangeIndex: 225414 entries, 0 to 225413\n",
      "Data columns (total 13 columns):\n",
      "Created Date     225414 non-null object\n",
      "Closed Date      224619 non-null object\n",
      "Location Type    225414 non-null object\n",
      "Incident Zip     224424 non-null float64\n",
      "City             224424 non-null object\n",
      "Borough          225414 non-null object\n",
      "Latitude         223946 non-null float64\n",
      "Longitude        223946 non-null float64\n",
      "Month            225414 non-null int64\n",
      "Day              225414 non-null int64\n",
      "Time             225414 non-null object\n",
      "Weekday          225414 non-null object\n",
      "WeekdayInt       225414 non-null int64\n",
      "dtypes: float64(3), int64(3), object(7)\n",
      "memory usage: 22.4+ MB\n"
     ]
    }
   ],
   "source": [
    "calldata.info()"
   ]
  },
  {
   "cell_type": "markdown",
   "metadata": {},
   "source": [
    "## Plot all calls by Longitude/Latitude"
   ]
  },
  {
   "cell_type": "code",
   "execution_count": 17,
   "metadata": {
    "scrolled": true
   },
   "outputs": [
    {
     "data": {
      "text/plain": [
       "<matplotlib.axes._subplots.AxesSubplot at 0x1b230acde48>"
      ]
     },
     "execution_count": 17,
     "metadata": {},
     "output_type": "execute_result"
    },
    {
     "data": {
      "image/png": "[encoded data removed]",
      "text/plain": [
       "<matplotlib.figure.Figure at 0x1b226325f28>"
      ]
     },
     "metadata": {},
     "output_type": "display_data"
    }
   ],
   "source": [
    "calldata.plot(kind = 'scatter',x='Longitude',y='Latitude',xlim = (-74.3,-73.6),ylim = (40.4,41))"
   ]
  },
  {
   "cell_type": "markdown",
   "metadata": {},
   "source": [
    "## Plot only store/commercial calls by Longitude/Latitude"
   ]
  },
  {
   "cell_type": "code",
   "execution_count": 18,
   "metadata": {},
   "outputs": [
    {
     "data": {
      "text/plain": [
       "<matplotlib.axes._subplots.AxesSubplot at 0x1b230af3a20>"
      ]
     },
     "execution_count": 18,
     "metadata": {},
     "output_type": "execute_result"
    },
    {
     "data": {
      "image/png": "[encoded data removed]",
      "text/plain": [
       "<matplotlib.figure.Figure at 0x1b233ac44e0>"
      ]
     },
     "metadata": {},
     "output_type": "display_data"
    }
   ],
   "source": [
    "howdata = calldata.loc[calldata['Location Type'] == 'Store/Commercial']\n",
    "howdata.plot(kind = 'scatter',x='Longitude',y='Latitude',xlim = (-74.3,-73.6),ylim = (40.4,41))"
   ]
  },
  {
   "cell_type": "markdown",
   "metadata": {
    "collapsed": true
   },
   "source": [
    "## Hexbin and Density plots of all calls by Longitude/Latitude"
   ]
  },
  {
   "cell_type": "code",
   "execution_count": 19,
   "metadata": {},
   "outputs": [],
   "source": [
    "#sns.jointplot(x=\"Longitude\", y=\"Latitude\", data=calldata, kind=\"hex\",xlim = (-74.3,-73.6),ylim = (40.4,41))"
   ]
  },
  {
   "cell_type": "code",
   "execution_count": 20,
   "metadata": {},
   "outputs": [],
   "source": [
    "#sns.jointplot(x=\"Longitude\", y=\"Latitude\", data=calldata, kind=\"kde\",xlim = (-74.3,-73.6),ylim = (40.4,41))"
   ]
  },
  {
   "cell_type": "code",
   "execution_count": 21,
   "metadata": {},
   "outputs": [
    {
     "name": "stdout",
     "output_type": "stream",
     "text": [
      "<class 'pandas.core.frame.DataFrame'>\n",
      "RangeIndex: 225414 entries, 0 to 225413\n",
      "Data columns (total 14 columns):\n",
      "Created Date     225414 non-null object\n",
      "Closed Date      224619 non-null object\n",
      "Location Type    225414 non-null object\n",
      "Incident Zip     224424 non-null float64\n",
      "City             224424 non-null object\n",
      "Borough          225414 non-null object\n",
      "Latitude         223946 non-null float64\n",
      "Longitude        223946 non-null float64\n",
      "Month            225414 non-null int64\n",
      "Day              225414 non-null int64\n",
      "Time             225414 non-null object\n",
      "Weekday          225414 non-null object\n",
      "WeekdayInt       225414 non-null int64\n",
      "Hour             225414 non-null int64\n",
      "dtypes: float64(3), int64(4), object(7)\n",
      "memory usage: 24.1+ MB\n"
     ]
    }
   ],
   "source": [
    "#Bailey Stuff\n",
    "\n",
    "#Graph the density of calls to location type to hours in the day\n",
    "\n",
    "\n",
    "#created_series = calldata.iloc[:,0]\n",
    "#month_series = created_series.apply(getMonth)\n",
    "#day_series = created_series.apply(getDay)\n",
    "#time_series = created_series.apply(getTime)\n",
    "\n",
    "#calldata = calldata.assign(Month=month_series.values)\n",
    "#calldata = calldata.assign(Day=day_series.values)\n",
    "#calldata = calldata.assign(Time=time_series.values)\n",
    "#def getDay(created):\n",
    " #   day = (created.split()[0])\n",
    " #   day = day.split(sep = '-')\n",
    " #   day = day[-1]\n",
    " #   return day\n",
    "\n",
    "def getHour(time):\n",
    "    hour = int(time[0])\n",
    "    return hour\n",
    "\n",
    "hour_series = time_series.apply(getHour)\n",
    "\n",
    "calldata = calldata.assign(Hour=hour_series)\n",
    "calldata.head()\n",
    "\n",
    "#make histogram for all location types vs hours, each location type vs hours. City vs. hour, borough vs hour\n",
    "store = calldata.loc[calldata['Location Type'] == 'Store/Commercial']\n",
    "house = calldata.loc[calldata['Location Type'] == 'Residential Building/House']\n",
    "club = calldata.loc[calldata['Location Type'] == 'Club/Bar/Restaurant']\n",
    "street = calldata.loc[calldata['Location Type'] == 'Street/Sidewalk']\n",
    "park = calldata.loc[calldata['Location Type'] == 'Park/Playground']\n",
    "church = calldata.loc[calldata['Location Type'] == 'House of Worship']\n",
    "\n",
    "man = calldata.loc[calldata['Borough'] == 'MANHATTAN']\n",
    "bro = calldata.loc[calldata['Borough'] == 'BROOKLYN']\n",
    "brx = calldata.loc[calldata['Borough'] == 'BRONX']\n",
    "que = calldata.loc[calldata['Borough'] == 'QUEENS']\n",
    "sta = calldata.loc[calldata['Borough'] == 'STATEN ISLAND']\n",
    "uns = calldata.loc[calldata['Borough'] == 'Unspecified']\n",
    "calldata.info()"
   ]
  },
  {
   "cell_type": "code",
   "execution_count": 29,
   "metadata": {},
   "outputs": [
    {
     "data": {
      "text/plain": [
       "(array([ 28605.,  20054.,  12310.,   7015.,   3728.,   2134.,   1415.,\n",
       "          1275.,   1443.,   1898.,   2306.,   2857.,   3312.,   3691.,\n",
       "          4265.,   4614.,   5263.,   6361.,   7976.,  10733.,  14027.,\n",
       "         18899.,  28335.,  32898.]),\n",
       " array([  0.        ,   0.95833333,   1.91666667,   2.875     ,\n",
       "          3.83333333,   4.79166667,   5.75      ,   6.70833333,\n",
       "          7.66666667,   8.625     ,   9.58333333,  10.54166667,\n",
       "         11.5       ,  12.45833333,  13.41666667,  14.375     ,\n",
       "         15.33333333,  16.29166667,  17.25      ,  18.20833333,\n",
       "         19.16666667,  20.125     ,  21.08333333,  22.04166667,  23.        ]),\n",
       " <a list of 24 Patch objects>)"
      ]
     },
     "execution_count": 29,
     "metadata": {},
     "output_type": "execute_result"
    },
    {
     "data": {
      "image/png": "[encoded data removed]",
      "text/plain": [
       "<matplotlib.figure.Figure at 0x1b230212fd0>"
      ]
     },
     "metadata": {},
     "output_type": "display_data"
    }
   ],
   "source": [
    "plt.hist(calldata['Hour'],24)"
   ]
  },
  {
   "cell_type": "code",
   "execution_count": 23,
   "metadata": {},
   "outputs": [
    {
     "data": {
      "image/png": "[encoded data removed]",
      "text/plain": [
       "<matplotlib.figure.Figure at 0x1b2334d7cf8>"
      ]
     },
     "metadata": {},
     "output_type": "display_data"
    }
   ],
   "source": [
    "#Locations by hour\n",
    "\n",
    "fig = plt.figure()\n",
    "\n",
    "ax1 = fig.add_subplot(2, 3, 1)\n",
    "ax1.hist(store['Hour'],24)\n",
    "#ax1.title('Store/Commercial')\n",
    "ax2 = fig.add_subplot(2, 3, 2)\n",
    "ax2.hist(house['Hour'],24)\n",
    "#ax2.title('Residential Building/House')\n",
    "ax3 = fig.add_subplot(2, 3, 3)\n",
    "ax3.hist(club['Hour'],24)\n",
    "#ax3.title('Club/Bar/Restaurant')\n",
    "ax4 = fig.add_subplot(2, 3, 4)\n",
    "ax4.hist(street['Hour'],24)\n",
    "#ax4.title('Street/Sidewalk')\n",
    "ax5 = fig.add_subplot(2, 3, 5)\n",
    "ax5.hist(park['Hour'],24)\n",
    "#ax5.title('Park/Playground')\n",
    "ax6 = fig.add_subplot(2, 3, 6)\n",
    "ax6.hist(church['Hour'],24)\n",
    "#ax6.title('House of Worship')\n",
    "\n",
    "plt.show()"
   ]
  },
  {
   "cell_type": "code",
   "execution_count": 24,
   "metadata": {},
   "outputs": [
    {
     "data": {
      "image/png": "[encoded data removed]",
      "text/plain": [
       "<matplotlib.figure.Figure at 0x1b233a685f8>"
      ]
     },
     "metadata": {},
     "output_type": "display_data"
    }
   ],
   "source": [
    "#Borough by hour\n",
    "\n",
    "fig = plt.figure()\n",
    "\n",
    "ax1 = fig.add_subplot(2, 3, 1)\n",
    "ax1.hist(man['Hour'],24)\n",
    "#ax1.title('Store/Commercial')\n",
    "ax2 = fig.add_subplot(2, 3, 2)\n",
    "ax2.hist(bro['Hour'],24)\n",
    "#ax2.title('Residential Building/House')\n",
    "ax3 = fig.add_subplot(2, 3, 3)\n",
    "ax3.hist(brx['Hour'],24)\n",
    "#ax3.title('Club/Bar/Restaurant')\n",
    "ax4 = fig.add_subplot(2, 3, 4)\n",
    "ax4.hist(que['Hour'],24)\n",
    "#ax4.title('Street/Sidewalk')\n",
    "ax5 = fig.add_subplot(2, 3, 5)\n",
    "ax5.hist(sta['Hour'],24)\n",
    "#ax5.title('Park/Playground')\n",
    "ax6 = fig.add_subplot(2, 3, 6)\n",
    "ax6.hist(uns['Hour'],24)\n",
    "#ax6.title('House of Worship')\n",
    "\n",
    "plt.show()"
   ]
  },
  {
   "cell_type": "code",
   "execution_count": 32,
   "metadata": {},
   "outputs": [
    {
     "data": {
      "text/html": [
       "<div>\n",
       "<style>\n",
       "    .dataframe thead tr:only-child th {\n",
       "        text-align: right;\n",
       "    }\n",
       "\n",
       "    .dataframe thead th {\n",
       "        text-align: left;\n",
       "    }\n",
       "\n",
       "    .dataframe tbody tr th {\n",
       "        vertical-align: top;\n",
       "    }\n",
       "</style>\n",
       "<table border=\"1\" class=\"dataframe\">\n",
       "  <thead>\n",
       "    <tr style=\"text-align: right;\">\n",
       "      <th></th>\n",
       "      <th>Created Date</th>\n",
       "      <th>Closed Date</th>\n",
       "      <th>Location Type</th>\n",
       "      <th>Incident Zip</th>\n",
       "      <th>City</th>\n",
       "      <th>Borough</th>\n",
       "      <th>Latitude</th>\n",
       "      <th>Longitude</th>\n",
       "      <th>Month</th>\n",
       "      <th>Day</th>\n",
       "      <th>Time</th>\n",
       "      <th>Weekday</th>\n",
       "      <th>WeekdayInt</th>\n",
       "      <th>Hour</th>\n",
       "      <th>YearDay</th>\n",
       "    </tr>\n",
       "  </thead>\n",
       "  <tbody>\n",
       "    <tr>\n",
       "      <th>0</th>\n",
       "      <td>2015-12-31 00:01:15</td>\n",
       "      <td>2015-12-31 03:48:04</td>\n",
       "      <td>Store/Commercial</td>\n",
       "      <td>10034.0</td>\n",
       "      <td>NEW YORK</td>\n",
       "      <td>MANHATTAN</td>\n",
       "      <td>40.866183</td>\n",
       "      <td>-73.918930</td>\n",
       "      <td>12</td>\n",
       "      <td>31</td>\n",
       "      <td>(00, 01, 15)</td>\n",
       "      <td>Thursday</td>\n",
       "      <td>3</td>\n",
       "      <td>0</td>\n",
       "      <td>366</td>\n",
       "    </tr>\n",
       "    <tr>\n",
       "      <th>1</th>\n",
       "      <td>2015-12-31 00:02:48</td>\n",
       "      <td>2015-12-31 04:36:13</td>\n",
       "      <td>Store/Commercial</td>\n",
       "      <td>10040.0</td>\n",
       "      <td>NEW YORK</td>\n",
       "      <td>MANHATTAN</td>\n",
       "      <td>40.859324</td>\n",
       "      <td>-73.931237</td>\n",
       "      <td>12</td>\n",
       "      <td>31</td>\n",
       "      <td>(00, 02, 48)</td>\n",
       "      <td>Thursday</td>\n",
       "      <td>3</td>\n",
       "      <td>0</td>\n",
       "      <td>366</td>\n",
       "    </tr>\n",
       "    <tr>\n",
       "      <th>2</th>\n",
       "      <td>2015-12-31 00:03:25</td>\n",
       "      <td>2015-12-31 00:40:15</td>\n",
       "      <td>Residential Building/House</td>\n",
       "      <td>10026.0</td>\n",
       "      <td>NEW YORK</td>\n",
       "      <td>MANHATTAN</td>\n",
       "      <td>40.799415</td>\n",
       "      <td>-73.953371</td>\n",
       "      <td>12</td>\n",
       "      <td>31</td>\n",
       "      <td>(00, 03, 25)</td>\n",
       "      <td>Thursday</td>\n",
       "      <td>3</td>\n",
       "      <td>0</td>\n",
       "      <td>366</td>\n",
       "    </tr>\n",
       "    <tr>\n",
       "      <th>3</th>\n",
       "      <td>2015-12-31 00:03:26</td>\n",
       "      <td>2015-12-31 01:53:38</td>\n",
       "      <td>Residential Building/House</td>\n",
       "      <td>11231.0</td>\n",
       "      <td>BROOKLYN</td>\n",
       "      <td>BROOKLYN</td>\n",
       "      <td>40.678285</td>\n",
       "      <td>-73.994668</td>\n",
       "      <td>12</td>\n",
       "      <td>31</td>\n",
       "      <td>(00, 03, 26)</td>\n",
       "      <td>Thursday</td>\n",
       "      <td>3</td>\n",
       "      <td>0</td>\n",
       "      <td>366</td>\n",
       "    </tr>\n",
       "    <tr>\n",
       "      <th>4</th>\n",
       "      <td>2015-12-31 00:05:10</td>\n",
       "      <td>2015-12-31 03:49:10</td>\n",
       "      <td>Residential Building/House</td>\n",
       "      <td>10033.0</td>\n",
       "      <td>NEW YORK</td>\n",
       "      <td>MANHATTAN</td>\n",
       "      <td>40.850304</td>\n",
       "      <td>-73.938516</td>\n",
       "      <td>12</td>\n",
       "      <td>31</td>\n",
       "      <td>(00, 05, 10)</td>\n",
       "      <td>Thursday</td>\n",
       "      <td>3</td>\n",
       "      <td>0</td>\n",
       "      <td>366</td>\n",
       "    </tr>\n",
       "  </tbody>\n",
       "</table>\n",
       "</div>"
      ],
      "text/plain": [
       "          Created Date          Closed Date               Location Type  \\\n",
       "0  2015-12-31 00:01:15  2015-12-31 03:48:04            Store/Commercial   \n",
       "1  2015-12-31 00:02:48  2015-12-31 04:36:13            Store/Commercial   \n",
       "2  2015-12-31 00:03:25  2015-12-31 00:40:15  Residential Building/House   \n",
       "3  2015-12-31 00:03:26  2015-12-31 01:53:38  Residential Building/House   \n",
       "4  2015-12-31 00:05:10  2015-12-31 03:49:10  Residential Building/House   \n",
       "\n",
       "   Incident Zip      City    Borough   Latitude  Longitude  Month  Day  \\\n",
       "0       10034.0  NEW YORK  MANHATTAN  40.866183 -73.918930     12   31   \n",
       "1       10040.0  NEW YORK  MANHATTAN  40.859324 -73.931237     12   31   \n",
       "2       10026.0  NEW YORK  MANHATTAN  40.799415 -73.953371     12   31   \n",
       "3       11231.0  BROOKLYN   BROOKLYN  40.678285 -73.994668     12   31   \n",
       "4       10033.0  NEW YORK  MANHATTAN  40.850304 -73.938516     12   31   \n",
       "\n",
       "           Time   Weekday  WeekdayInt  Hour  YearDay  \n",
       "0  (00, 01, 15)  Thursday           3     0      366  \n",
       "1  (00, 02, 48)  Thursday           3     0      366  \n",
       "2  (00, 03, 25)  Thursday           3     0      366  \n",
       "3  (00, 03, 26)  Thursday           3     0      366  \n",
       "4  (00, 05, 10)  Thursday           3     0      366  "
      ]
     },
     "execution_count": 32,
     "metadata": {},
     "output_type": "execute_result"
    }
   ],
   "source": [
    "#Locations of parties over the year( by month, by day)\n",
    "\n",
    "def getYearDay(date):\n",
    "    day = getDay(date)\n",
    "    month = getMonth(date)\n",
    "    if month == 1:\n",
    "        yearday = day\n",
    "    elif month == 2:\n",
    "        yearday = 31 + day\n",
    "    elif month == 3:\n",
    "        yearday = 60 + day\n",
    "    elif month == 4:\n",
    "        yearday = 91 + day\n",
    "    elif month == 5:\n",
    "        yearday = 121 + day\n",
    "    elif month == 6:\n",
    "        yearday = 152 + day\n",
    "    elif month == 7:\n",
    "        yearday = 182 + day\n",
    "    elif month == 8:\n",
    "        yearday = 213 + day\n",
    "    elif month == 9:\n",
    "        yearday = 244 + day\n",
    "    elif month == 10:\n",
    "        yearday = 274 + day\n",
    "    elif month == 11:\n",
    "        yearday = 305 + day\n",
    "    elif month == 12:\n",
    "        yearday = 335 + day\n",
    "    return yearday\n",
    "\n",
    "created_series = calldata.iloc[:,0]\n",
    "yearday_series = created_series.apply(getYearDay)\n",
    "calldata = calldata.assign(YearDay=yearday_series.values)\n",
    "calldata.head()\n"
   ]
  },
  {
   "cell_type": "code",
   "execution_count": 33,
   "metadata": {},
   "outputs": [
    {
     "data": {
      "text/plain": [
       "(array([ 1189.,   593.,   667.,   218.,   184.,   204.,   213.,   340.,\n",
       "          712.,   612.,   195.,   186.,   165.,   220.,   362.,   709.,\n",
       "          723.,   252.,   163.,   193.,   226.,   341.,   435.,   301.,\n",
       "          218.,   182.,   262.,   239.,   398.,   724.,   745.,   239.,\n",
       "          215.,   207.,   280.,   378.,   684.,   810.,   284.,   160.,\n",
       "          214.,   141.,   398.,   587.,   653.,   318.,   205.,   259.,\n",
       "          240.,   376.,   727.,   778.,   247.,   178.,   180.,   225.,\n",
       "          337.,   722.,   728.,   207.,   201.,   189.,   202.,   335.,\n",
       "          743.,   752.,   269.,   246.,   421.,   485.,   537.,   958.,\n",
       "          878.,   218.,   235.,   281.,   336.,   392.,   880.,   751.,\n",
       "          215.,   246.,   419.,   386.,   567.,   901.,   875.,   220.,\n",
       "          212.,   229.,   301.,   634.,  1028.,   789.,   214.,   233.,\n",
       "          251.,   298.,   436.,   815.,   757.,   266.,   263.,   267.,\n",
       "          341.,   557.,  1046.,  1335.,   454.,   428.,   313.,   371.,\n",
       "          801.,  1246.,  1223.,   427.,   341.,   380.,   393.,   501.,\n",
       "         1310.,  1043.,   254.,   314.,   284.,   447.,   511.,  1377.,\n",
       "         1445.,   396.,   363.,   538.,   594.,   603.,  1562.,  1196.,\n",
       "          344.,   351.,   353.,   517.,  1045.,  1574.,  1576.,   498.,\n",
       "          435.,   754.,   673.,   816.,  1616.,  2175.,  1121.,   417.,\n",
       "          458.,   443.,   692.,  1594.,  1182.,   442.,   386.,   311.,\n",
       "          542.,   948.,  1779.,  1553.,   389.,   487.,   524.,   415.,\n",
       "          802.,  2120.,  2542.,   535.,   440.,   463.,   442.,   842.,\n",
       "         1997.,  1867.,   398.,   321.,   434.,   585.,   462.,  1483.,\n",
       "         2344.,  1871.,   525.,   404.,   320.,   350.,  1436.,  1592.,\n",
       "          514.,   433.,   363.,   299.,   603.,  1427.,  1580.,   364.,\n",
       "          349.,   415.,   413.,   609.,  1255.,  1456.,   219.,   280.,\n",
       "          275.,   293.,   482.,  1067.,  1019.,   377.,   446.,   498.,\n",
       "          473.,   723.,  1477.,  1673.,   402.,   327.,   258.,   299.,\n",
       "          499.,  1139.,  1181.,   299.,   263.,   258.,   322.,   576.,\n",
       "         1473.,  1187.,   361.,   413.,   374.,   390.,   551.,  1552.,\n",
       "         1730.,   593.,   428.,   291.,   362.,   729.,  2011.,  2331.,\n",
       "         1532.,   372.,   310.,   490.,   683.,  1297.,  1547.,   496.,\n",
       "          366.,   309.,   435.,   677.,  1849.,  1605.,   289.,   758.,\n",
       "          805.,   360.,   680.,  1552.,  1588.,   318.,   294.,   239.,\n",
       "          303.,   413.,  1223.,  1223.,   426.,   341.,   317.,   401.,\n",
       "          651.,  1234.,   945.,   403.,   321.,   443.,   353.,   536.,\n",
       "         1181.,  1162.,   392.,   323.,   299.,   294.,   505.,   899.,\n",
       "          958.,   284.,   207.,   181.,   232.,   480.,  1372.,  1391.,\n",
       "          355.,   349.,   331.,   314.,   453.,  1007.,   689.,   389.,\n",
       "          268.,   198.,   277.,   448.,   927.,   772.,   258.,   233.,\n",
       "          228.,   314.,   617.,  1036.,   613.,   228.,   215.,   358.,\n",
       "          771.,   797.,   750.,   711.,   209.,   199.,   187.,   287.,\n",
       "          475.,   917.,   873.,   252.,   282.,   264.,   197.,   502.,\n",
       "          896.,   868.,   283.,   264.,   281.,   298.,   471.,   843.,\n",
       "          940.,   278.,   274.,   251.,   301.,   439.,   736.,  1060.,\n",
       "          349.,   322.,   359.,   356.,   581.,  1231.]),\n",
       " array([   1.        ,    1.99726776,    2.99453552,    3.99180328,\n",
       "           4.98907104,    5.9863388 ,    6.98360656,    7.98087432,\n",
       "           8.97814208,    9.97540984,   10.9726776 ,   11.96994536,\n",
       "          12.96721311,   13.96448087,   14.96174863,   15.95901639,\n",
       "          16.95628415,   17.95355191,   18.95081967,   19.94808743,\n",
       "          20.94535519,   21.94262295,   22.93989071,   23.93715847,\n",
       "          24.93442623,   25.93169399,   26.92896175,   27.92622951,\n",
       "          28.92349727,   29.92076503,   30.91803279,   31.91530055,\n",
       "          32.91256831,   33.90983607,   34.90710383,   35.90437158,\n",
       "          36.90163934,   37.8989071 ,   38.89617486,   39.89344262,\n",
       "          40.89071038,   41.88797814,   42.8852459 ,   43.88251366,\n",
       "          44.87978142,   45.87704918,   46.87431694,   47.8715847 ,\n",
       "          48.86885246,   49.86612022,   50.86338798,   51.86065574,\n",
       "          52.8579235 ,   53.85519126,   54.85245902,   55.84972678,\n",
       "          56.84699454,   57.8442623 ,   58.84153005,   59.83879781,\n",
       "          60.83606557,   61.83333333,   62.83060109,   63.82786885,\n",
       "          64.82513661,   65.82240437,   66.81967213,   67.81693989,\n",
       "          68.81420765,   69.81147541,   70.80874317,   71.80601093,\n",
       "          72.80327869,   73.80054645,   74.79781421,   75.79508197,\n",
       "          76.79234973,   77.78961749,   78.78688525,   79.78415301,\n",
       "          80.78142077,   81.77868852,   82.77595628,   83.77322404,\n",
       "          84.7704918 ,   85.76775956,   86.76502732,   87.76229508,\n",
       "          88.75956284,   89.7568306 ,   90.75409836,   91.75136612,\n",
       "          92.74863388,   93.74590164,   94.7431694 ,   95.74043716,\n",
       "          96.73770492,   97.73497268,   98.73224044,   99.7295082 ,\n",
       "         100.72677596,  101.72404372,  102.72131148,  103.71857923,\n",
       "         104.71584699,  105.71311475,  106.71038251,  107.70765027,\n",
       "         108.70491803,  109.70218579,  110.69945355,  111.69672131,\n",
       "         112.69398907,  113.69125683,  114.68852459,  115.68579235,\n",
       "         116.68306011,  117.68032787,  118.67759563,  119.67486339,\n",
       "         120.67213115,  121.66939891,  122.66666667,  123.66393443,\n",
       "         124.66120219,  125.65846995,  126.6557377 ,  127.65300546,\n",
       "         128.65027322,  129.64754098,  130.64480874,  131.6420765 ,\n",
       "         132.63934426,  133.63661202,  134.63387978,  135.63114754,\n",
       "         136.6284153 ,  137.62568306,  138.62295082,  139.62021858,\n",
       "         140.61748634,  141.6147541 ,  142.61202186,  143.60928962,\n",
       "         144.60655738,  145.60382514,  146.6010929 ,  147.59836066,\n",
       "         148.59562842,  149.59289617,  150.59016393,  151.58743169,\n",
       "         152.58469945,  153.58196721,  154.57923497,  155.57650273,\n",
       "         156.57377049,  157.57103825,  158.56830601,  159.56557377,\n",
       "         160.56284153,  161.56010929,  162.55737705,  163.55464481,\n",
       "         164.55191257,  165.54918033,  166.54644809,  167.54371585,\n",
       "         168.54098361,  169.53825137,  170.53551913,  171.53278689,\n",
       "         172.53005464,  173.5273224 ,  174.52459016,  175.52185792,\n",
       "         176.51912568,  177.51639344,  178.5136612 ,  179.51092896,\n",
       "         180.50819672,  181.50546448,  182.50273224,  183.5       ,\n",
       "         184.49726776,  185.49453552,  186.49180328,  187.48907104,\n",
       "         188.4863388 ,  189.48360656,  190.48087432,  191.47814208,\n",
       "         192.47540984,  193.4726776 ,  194.46994536,  195.46721311,\n",
       "         196.46448087,  197.46174863,  198.45901639,  199.45628415,\n",
       "         200.45355191,  201.45081967,  202.44808743,  203.44535519,\n",
       "         204.44262295,  205.43989071,  206.43715847,  207.43442623,\n",
       "         208.43169399,  209.42896175,  210.42622951,  211.42349727,\n",
       "         212.42076503,  213.41803279,  214.41530055,  215.41256831,\n",
       "         216.40983607,  217.40710383,  218.40437158,  219.40163934,\n",
       "         220.3989071 ,  221.39617486,  222.39344262,  223.39071038,\n",
       "         224.38797814,  225.3852459 ,  226.38251366,  227.37978142,\n",
       "         228.37704918,  229.37431694,  230.3715847 ,  231.36885246,\n",
       "         232.36612022,  233.36338798,  234.36065574,  235.3579235 ,\n",
       "         236.35519126,  237.35245902,  238.34972678,  239.34699454,\n",
       "         240.3442623 ,  241.34153005,  242.33879781,  243.33606557,\n",
       "         244.33333333,  245.33060109,  246.32786885,  247.32513661,\n",
       "         248.32240437,  249.31967213,  250.31693989,  251.31420765,\n",
       "         252.31147541,  253.30874317,  254.30601093,  255.30327869,\n",
       "         256.30054645,  257.29781421,  258.29508197,  259.29234973,\n",
       "         260.28961749,  261.28688525,  262.28415301,  263.28142077,\n",
       "         264.27868852,  265.27595628,  266.27322404,  267.2704918 ,\n",
       "         268.26775956,  269.26502732,  270.26229508,  271.25956284,\n",
       "         272.2568306 ,  273.25409836,  274.25136612,  275.24863388,\n",
       "         276.24590164,  277.2431694 ,  278.24043716,  279.23770492,\n",
       "         280.23497268,  281.23224044,  282.2295082 ,  283.22677596,\n",
       "         284.22404372,  285.22131148,  286.21857923,  287.21584699,\n",
       "         288.21311475,  289.21038251,  290.20765027,  291.20491803,\n",
       "         292.20218579,  293.19945355,  294.19672131,  295.19398907,\n",
       "         296.19125683,  297.18852459,  298.18579235,  299.18306011,\n",
       "         300.18032787,  301.17759563,  302.17486339,  303.17213115,\n",
       "         304.16939891,  305.16666667,  306.16393443,  307.16120219,\n",
       "         308.15846995,  309.1557377 ,  310.15300546,  311.15027322,\n",
       "         312.14754098,  313.14480874,  314.1420765 ,  315.13934426,\n",
       "         316.13661202,  317.13387978,  318.13114754,  319.1284153 ,\n",
       "         320.12568306,  321.12295082,  322.12021858,  323.11748634,\n",
       "         324.1147541 ,  325.11202186,  326.10928962,  327.10655738,\n",
       "         328.10382514,  329.1010929 ,  330.09836066,  331.09562842,\n",
       "         332.09289617,  333.09016393,  334.08743169,  335.08469945,\n",
       "         336.08196721,  337.07923497,  338.07650273,  339.07377049,\n",
       "         340.07103825,  341.06830601,  342.06557377,  343.06284153,\n",
       "         344.06010929,  345.05737705,  346.05464481,  347.05191257,\n",
       "         348.04918033,  349.04644809,  350.04371585,  351.04098361,\n",
       "         352.03825137,  353.03551913,  354.03278689,  355.03005464,\n",
       "         356.0273224 ,  357.02459016,  358.02185792,  359.01912568,\n",
       "         360.01639344,  361.0136612 ,  362.01092896,  363.00819672,\n",
       "         364.00546448,  365.00273224,  366.        ]),\n",
       " <a list of 366 Patch objects>)"
      ]
     },
     "execution_count": 33,
     "metadata": {},
     "output_type": "execute_result"
    },
    {
     "data": {
      "image/png": "[encoded data removed]",
      "text/plain": [
       "<matplotlib.figure.Figure at 0x1b23024d6d8>"
      ]
     },
     "metadata": {},
     "output_type": "display_data"
    }
   ],
   "source": [
    "plt.hist(calldata['YearDay'],366)"
   ]
  },
  {
   "cell_type": "code",
   "execution_count": 35,
   "metadata": {},
   "outputs": [
    {
     "data": {
      "text/plain": [
       "(array([  593.,   712.,   709.,   435.,   724.,   684.,   587.,   727.,\n",
       "          722.,   743.,   958.,   880.,   901.,  1028.,   815.,  1046.,\n",
       "         1246.,  1310.,  1377.,  1562.,  1574.,  1616.,  1594.,  1779.,\n",
       "         2120.,  1997.,  1483.,  1436.,  1427.,  1255.,  1067.,  1477.,\n",
       "         1139.,  1473.,  1552.,  2011.,  1297.,  1849.,  1552.,  1223.,\n",
       "         1234.,  1181.,   899.,  1372.,  1007.,   927.,  1036.,   750.,\n",
       "          917.,   896.,   843.,   736.,   683.]),\n",
       " array([   2.        ,    8.86792453,   15.73584906,   22.60377358,\n",
       "          29.47169811,   36.33962264,   43.20754717,   50.0754717 ,\n",
       "          56.94339623,   63.81132075,   70.67924528,   77.54716981,\n",
       "          84.41509434,   91.28301887,   98.1509434 ,  105.01886792,\n",
       "         111.88679245,  118.75471698,  125.62264151,  132.49056604,\n",
       "         139.35849057,  146.22641509,  153.09433962,  159.96226415,\n",
       "         166.83018868,  173.69811321,  180.56603774,  187.43396226,\n",
       "         194.30188679,  201.16981132,  208.03773585,  214.90566038,\n",
       "         221.77358491,  228.64150943,  235.50943396,  242.37735849,\n",
       "         249.24528302,  256.11320755,  262.98113208,  269.8490566 ,\n",
       "         276.71698113,  283.58490566,  290.45283019,  297.32075472,\n",
       "         304.18867925,  311.05660377,  317.9245283 ,  324.79245283,\n",
       "         331.66037736,  338.52830189,  345.39622642,  352.26415094,\n",
       "         359.13207547,  366.        ]),\n",
       " <a list of 53 Patch objects>)"
      ]
     },
     "execution_count": 35,
     "metadata": {},
     "output_type": "execute_result"
    },
    {
     "data": {
      "image/png": "[encoded data removed]",
      "text/plain": [
       "<matplotlib.figure.Figure at 0x1b23440d5c0>"
      ]
     },
     "metadata": {},
     "output_type": "display_data"
    }
   ],
   "source": [
    "sat = calldata.loc[calldata['Weekday'] == 'Saturday']\n",
    "plt.hist(sat['YearDay'],53)"
   ]
  },
  {
   "cell_type": "code",
   "execution_count": 36,
   "metadata": {},
   "outputs": [
    {
     "data": {
      "image/png": "[encoded data removed]",
      "text/plain": [
       "<matplotlib.figure.Figure at 0x1b22711df60>"
      ]
     },
     "metadata": {},
     "output_type": "display_data"
    }
   ],
   "source": [
    "#By month\n",
    "\n",
    "jan = calldata.loc[calldata['Month'] == 1]\n",
    "feb = calldata.loc[calldata['Month'] == 2]\n",
    "mar = calldata.loc[calldata['Month'] == 3]\n",
    "apr = calldata.loc[calldata['Month'] == 4]\n",
    "may = calldata.loc[calldata['Month'] == 5]\n",
    "jun = calldata.loc[calldata['Month'] == 6]\n",
    "jul = calldata.loc[calldata['Month'] == 7]\n",
    "aug = calldata.loc[calldata['Month'] == 8]\n",
    "sep = calldata.loc[calldata['Month'] == 9]\n",
    "oct = calldata.loc[calldata['Month'] == 10]\n",
    "nov = calldata.loc[calldata['Month'] == 11]\n",
    "dec = calldata.loc[calldata['Month'] == 12]\n",
    "\n",
    "fig = plt.figure()\n",
    "\n",
    "ax1 = fig.add_subplot(3, 4, 1)\n",
    "ax1.hist(jan['YearDay'],31)\n",
    "\n",
    "ax2 = fig.add_subplot(3, 4, 2)\n",
    "ax2.hist(feb['YearDay'],29)\n",
    "\n",
    "ax3 = fig.add_subplot(3, 4, 3)\n",
    "ax3.hist(mar['YearDay'],31)\n",
    "\n",
    "ax4 = fig.add_subplot(3, 4, 4)\n",
    "ax4.hist(apr['YearDay'],30)\n",
    "\n",
    "ax5 = fig.add_subplot(3, 4, 5)\n",
    "ax5.hist(may['YearDay'],31)\n",
    "\n",
    "ax6 = fig.add_subplot(3, 4, 6)\n",
    "ax6.hist(jun['YearDay'],30)\n",
    "\n",
    "ax7 = fig.add_subplot(3, 4, 7)\n",
    "ax7.hist(jul['YearDay'],31)\n",
    "\n",
    "ax8 = fig.add_subplot(3, 4, 8)\n",
    "ax8.hist(aug['YearDay'],31)\n",
    "\n",
    "ax9 = fig.add_subplot(3, 4, 9)\n",
    "ax9.hist(sep['YearDay'],30)\n",
    "\n",
    "ax10 = fig.add_subplot(3, 4, 10)\n",
    "ax10.hist(oct['YearDay'],31)\n",
    "\n",
    "ax11 = fig.add_subplot(3, 4, 11)\n",
    "ax11.hist(nov['YearDay'],30)\n",
    "\n",
    "ax12 = fig.add_subplot(3, 4, 12)\n",
    "ax12.hist(dec['YearDay'],31)\n",
    "\n",
    "plt.show()"
   ]
  },
  {
   "cell_type": "code",
   "execution_count": null,
   "metadata": {
    "collapsed": true
   },
   "outputs": [],
   "source": [
    "# plot locations over a week\n",
    "mon = calldata.loc[calldata['WeekdayInt'] == 0]\n",
    "tues = calldata.loc[calldata['WeekdayInt'] == 1]\n",
    "wed = calldata.loc[calldata['WeekdayInt'] == 2]\n",
    "thurs = calldata.loc[calldata['WeekdayInt'] == 3]\n",
    "fri = calldata.loc[calldata['WeekdayInt'] == 4]\n",
    "sat = calldata.loc[calldata['WeekdayInt'] == 5]\n",
    "sun = calldata.loc[calldata['WeekdayInt'] == 6]\n"
   ]
  },
  {
   "cell_type": "code",
   "execution_count": null,
   "metadata": {
    "collapsed": true
   },
   "outputs": [],
   "source": [
    "objects = ('mon', 'tues', 'wed', 'thurs', 'fri', 'sat', 'sun')\n",
    "y_pos = np.arange(len(objects))\n",
    "num_calls = [len(mon), len(tues), len(wed), len(thurs), len(fri), len(sat), len(sun)]"
   ]
  },
  {
   "cell_type": "code",
   "execution_count": null,
   "metadata": {},
   "outputs": [],
   "source": [
    "# currently a bar plot, could have been a histogram but why not\n",
    "plt.bar(y_pos, num_calls)\n",
    "num_calls"
   ]
  },
  {
   "cell_type": "code",
   "execution_count": null,
   "metadata": {},
   "outputs": [],
   "source": [
    "#Locations by weekday\n",
    "\n",
    "fig = plt.figure()\n",
    "\n",
    "ax1 = fig.add_subplot(2, 3, 1)\n",
    "ax1.hist(store['WeekdayInt'], bins = 7, rwidth = 0.8)\n",
    "#ax1.title('Store/Commercial')\n",
    "ax2 = fig.add_subplot(2, 3, 2)\n",
    "ax2.hist(house['WeekdayInt'], bins = 7, rwidth = 0.8)\n",
    "#ax2.title('Residential Building/House')\n",
    "ax3 = fig.add_subplot(2, 3, 3)\n",
    "ax3.hist(club['WeekdayInt'], bins = 7, rwidth = 0.8)\n",
    "#ax3.title('Club/Bar/Restaurant')\n",
    "ax4 = fig.add_subplot(2, 3, 4)\n",
    "ax4.hist(street['WeekdayInt'], bins = 7, rwidth = 0.8)\n",
    "#ax4.title('Street/Sidewalk')\n",
    "ax5 = fig.add_subplot(2, 3, 5)\n",
    "ax5.hist(park['WeekdayInt'], bins = 7, rwidth = 0.8)\n",
    "#ax5.title('Park/Playground')\n",
    "ax6 = fig.add_subplot(2, 3, 6)\n",
    "ax6.hist(church['WeekdayInt'], bins = 7, rwidth = 0.8)\n",
    "#ax6.title('House of Worship')\n",
    "\n",
    "plt.show()"
   ]
  },
  {
   "cell_type": "code",
   "execution_count": null,
   "metadata": {
    "scrolled": true
   },
   "outputs": [],
   "source": [
    "import plotly\n",
    "from plotly.graph_objs import Scatter, Layout\n",
    "\n",
    "plotly.offline.init_notebook_mode(connected=True)\n",
    "\n",
    "plotly.offline.iplot({\n",
    "    \"data\": [Scatter(x=[1, 2, 3, 4], y=[4, 3, 2, 1])],\n",
    "    \"layout\": Layout(title=\"hello world\")\n",
    "})"
   ]
  },
  {
   "cell_type": "code",
   "execution_count": null,
   "metadata": {},
   "outputs": [],
   "source": [
    "df = pd.read_csv('https://raw.githubusercontent.com/plotly/datasets/master/2011_february_us_airport_traffic.csv')\n",
    "df.head()\n",
    "\n",
    "df['text'] = df['airport'] + '' + df['city'] + ', ' + df['state'] + '' + 'Arrivals: ' + df['cnt'].astype(str)\n",
    "\n",
    "scl = [ [0,\"rgb(5, 10, 172)\"],[0.35,\"rgb(40, 60, 190)\"],[0.5,\"rgb(70, 100, 245)\"],\\\n",
    "    [0.6,\"rgb(90, 120, 245)\"],[0.7,\"rgb(106, 137, 247)\"],[1,\"rgb(220, 220, 220)\"] ]\n",
    "\n",
    "data = [ dict(\n",
    "        type = 'scattergeo',\n",
    "        locationmode = 'USA-states',\n",
    "        lon = df['long'],\n",
    "        lat = df['lat'],\n",
    "        text = df['text'],\n",
    "        mode = 'markers',\n",
    "        marker = dict(\n",
    "            size = 8,\n",
    "            opacity = 0.8,\n",
    "            reversescale = True,\n",
    "            autocolorscale = False,\n",
    "            symbol = 'square',\n",
    "            line = dict(\n",
    "                width=1,\n",
    "                color='rgba(102, 102, 102)'\n",
    "            ),\n",
    "            colorscale = scl,\n",
    "            cmin = 0,\n",
    "            color = df['cnt'],\n",
    "            cmax = df['cnt'].max(),\n",
    "            colorbar=dict(\n",
    "                title=\"Incoming flightsFebruary 2011\"\n",
    "            )\n",
    "        ))]\n",
    "\n",
    "layout = dict(\n",
    "        title = 'Most trafficked US airports<br>(Hover for airport names)',\n",
    "        colorbar = True,\n",
    "        geo = dict(\n",
    "            scope='usa',\n",
    "            projection=dict( type='albers usa' ),\n",
    "            showland = True,\n",
    "            landcolor = \"rgb(250, 250, 250)\",\n",
    "            subunitcolor = \"rgb(217, 217, 217)\",\n",
    "            countrycolor = \"rgb(217, 217, 217)\",\n",
    "            countrywidth = 0.5,\n",
    "            subunitwidth = 0.5\n",
    "        ),\n",
    "    )\n",
    "\n",
    "fig = dict( data=data, layout=layout )\n",
    "plotly.offline.iplot( fig, validate=False, filename='d3-airports' )"
   ]
  },
  {
   "cell_type": "code",
   "execution_count": null,
   "metadata": {
    "collapsed": true
   },
   "outputs": [],
   "source": []
  }
 ],
 "metadata": {
  "kernelspec": {
   "display_name": "Python 3",
   "language": "python",
   "name": "python3"
  },
  "language_info": {
   "codemirror_mode": {
    "name": "ipython",
    "version": 3
   },
   "file_extension": ".py",
   "mimetype": "text/x-python",
   "name": "python",
   "nbconvert_exporter": "python",
   "pygments_lexer": "ipython3",
   "version": "3.6.1"
  }
 },
 "nbformat": 4,
 "nbformat_minor": 2
}
